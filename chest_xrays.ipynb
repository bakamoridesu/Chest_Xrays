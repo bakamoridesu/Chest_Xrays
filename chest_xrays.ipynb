{
 "cells": [
  {
   "cell_type": "code",
   "execution_count": 484,
   "metadata": {},
   "outputs": [],
   "source": [
    "import os\n",
    "import numpy as np\n",
    "import pandas as pd\n",
    "from glob import glob\n",
    "from itertools import chain\n",
    "from sklearn.metrics import roc_curve, auc, roc_auc_score, precision_recall_curve\n",
    "from sklearn.metrics import accuracy_score, precision_score, recall_score, f1_score\n",
    "from matplotlib import pyplot as plt\n",
    "from sklearn.model_selection import train_test_split\n",
    "from tensorflow.keras.preprocessing.image import ImageDataGenerator\n",
    "import seaborn as sns\n",
    "\n",
    "import tensorflow as tf"
   ]
  },
  {
   "cell_type": "code",
   "execution_count": 313,
   "metadata": {},
   "outputs": [],
   "source": [
    "#os.environ['CUDA_VISIBLE_DEVICES'] = '0'\n",
    "\n",
    "#print(\"Num GPUs Available: \", len(tf.config.experimental.list_physical_devices('GPU')))"
   ]
  },
  {
   "cell_type": "code",
   "execution_count": 314,
   "metadata": {},
   "outputs": [],
   "source": [
    "DATA_DIR = 'data/'\n",
    "image_size = 256\n",
    "batch_size = 32"
   ]
  },
  {
   "cell_type": "markdown",
   "metadata": {},
   "source": [
    "### 1. Pre-processing"
   ]
  },
  {
   "cell_type": "code",
   "execution_count": 315,
   "metadata": {
    "pycharm": {
     "is_executing": true,
     "name": "#%%\n"
    }
   },
   "outputs": [
    {
     "data": {
      "text/plain": [
       "(112120, 12)"
      ]
     },
     "execution_count": 315,
     "metadata": {},
     "output_type": "execute_result"
    }
   ],
   "source": [
    "# read data to dataframe\n",
    "df = pd.read_csv(f'{DATA_DIR}Data_Entry_2017.csv')\n",
    "df.shape"
   ]
  },
  {
   "cell_type": "code",
   "execution_count": 316,
   "metadata": {
    "pycharm": {
     "is_executing": true
    }
   },
   "outputs": [],
   "source": [
    "# clean up the column names\n",
    "df = df.rename(columns = {'Image Index' : 'image_index', 'Finding Labels': 'finding_labels',\n",
    "                             'Follow-up #':'follow_up', 'Patient ID': 'patient_id', 'Patient Age':'patient_age',\n",
    "                             'Patient Gender':'patient_gender', 'View Position':'view_position', \n",
    "                              'OriginalImage[Width':'orig_img_width', 'Height]':'orig_img_height',\n",
    "                             'OriginalImagePixelSpacing[x':'pixel_spacing_x', 'y]':'pixel_spacing_y',\n",
    "                             'Unnamed: 11':'unnamed_11'})"
   ]
  },
  {
   "cell_type": "markdown",
   "metadata": {},
   "source": [
    "Since the image paths are listed without folder names, need to add full paths"
   ]
  },
  {
   "cell_type": "code",
   "execution_count": 318,
   "metadata": {
    "pycharm": {
     "is_executing": true
    }
   },
   "outputs": [],
   "source": [
    "data_image_paths = {os.path.basename(x): x for x in glob(os.path.join(DATA_DIR, 'images*', 'images', '*png'))}\n",
    "df['image_path'] = df['image_index'].map(data_image_paths.get)\n",
    "del df['image_index']"
   ]
  },
  {
   "cell_type": "code",
   "execution_count": 319,
   "metadata": {
    "pycharm": {
     "name": "#%%\n"
    }
   },
   "outputs": [],
   "source": [
    "Some more preprocessing"
   ]
  },
  {
   "cell_type": "code",
   "execution_count": 320,
   "metadata": {},
   "outputs": [],
   "source": [
    "# evade using spaces\n",
    "df['finding_labels'] = df['finding_labels'].map(lambda x: x.replace('No Finding', 'No_Finding'))"
   ]
  },
  {
   "cell_type": "code",
   "execution_count": 321,
   "metadata": {},
   "outputs": [
    {
     "data": {
      "text/html": [
       "<div>\n",
       "<style scoped>\n",
       "    .dataframe tbody tr th:only-of-type {\n",
       "        vertical-align: middle;\n",
       "    }\n",
       "\n",
       "    .dataframe tbody tr th {\n",
       "        vertical-align: top;\n",
       "    }\n",
       "\n",
       "    .dataframe thead th {\n",
       "        text-align: right;\n",
       "    }\n",
       "</style>\n",
       "<table border=\"1\" class=\"dataframe\">\n",
       "  <thead>\n",
       "    <tr style=\"text-align: right;\">\n",
       "      <th></th>\n",
       "      <th>finding_labels</th>\n",
       "      <th>disease</th>\n",
       "    </tr>\n",
       "  </thead>\n",
       "  <tbody>\n",
       "    <tr>\n",
       "      <th>0</th>\n",
       "      <td>Cardiomegaly</td>\n",
       "      <td>Cardiomegaly</td>\n",
       "    </tr>\n",
       "    <tr>\n",
       "      <th>1</th>\n",
       "      <td>Cardiomegaly|Emphysema</td>\n",
       "      <td>Cardiomegaly</td>\n",
       "    </tr>\n",
       "    <tr>\n",
       "      <th>2</th>\n",
       "      <td>Cardiomegaly|Effusion</td>\n",
       "      <td>Cardiomegaly</td>\n",
       "    </tr>\n",
       "    <tr>\n",
       "      <th>3</th>\n",
       "      <td>No_Finding</td>\n",
       "      <td>No_Finding</td>\n",
       "    </tr>\n",
       "    <tr>\n",
       "      <th>4</th>\n",
       "      <td>Hernia</td>\n",
       "      <td>Hernia</td>\n",
       "    </tr>\n",
       "    <tr>\n",
       "      <th>5</th>\n",
       "      <td>Hernia</td>\n",
       "      <td>Hernia</td>\n",
       "    </tr>\n",
       "    <tr>\n",
       "      <th>6</th>\n",
       "      <td>Hernia</td>\n",
       "      <td>Hernia</td>\n",
       "    </tr>\n",
       "    <tr>\n",
       "      <th>7</th>\n",
       "      <td>Hernia|Infiltration</td>\n",
       "      <td>Hernia</td>\n",
       "    </tr>\n",
       "    <tr>\n",
       "      <th>8</th>\n",
       "      <td>Hernia</td>\n",
       "      <td>Hernia</td>\n",
       "    </tr>\n",
       "    <tr>\n",
       "      <th>9</th>\n",
       "      <td>Hernia</td>\n",
       "      <td>Hernia</td>\n",
       "    </tr>\n",
       "  </tbody>\n",
       "</table>\n",
       "</div>"
      ],
      "text/plain": [
       "           finding_labels       disease\n",
       "0            Cardiomegaly  Cardiomegaly\n",
       "1  Cardiomegaly|Emphysema  Cardiomegaly\n",
       "2   Cardiomegaly|Effusion  Cardiomegaly\n",
       "3              No_Finding    No_Finding\n",
       "4                  Hernia        Hernia\n",
       "5                  Hernia        Hernia\n",
       "6                  Hernia        Hernia\n",
       "7     Hernia|Infiltration        Hernia\n",
       "8                  Hernia        Hernia\n",
       "9                  Hernia        Hernia"
      ]
     },
     "execution_count": 321,
     "metadata": {},
     "output_type": "execute_result"
    }
   ],
   "source": [
    "# add column to stratify on\n",
    "new = df[\"finding_labels\"].str.split('|', n=1, expand=True)\n",
    "df['disease'] = new[0]\n",
    "df[['finding_labels', 'disease']].head(10)"
   ]
  },
  {
   "cell_type": "code",
   "execution_count": 322,
   "metadata": {},
   "outputs": [],
   "source": [
    "# extract labels\n",
    "diseases = df.disease.unique().tolist()"
   ]
  },
  {
   "cell_type": "markdown",
   "metadata": {},
   "source": [
    "### 2. Split the dataset.\n",
    "\n",
    "In order to balance the dataset, I'll get rid of most of the samples from classes with too many samples. That's why I split the dataset with 90/10 proportions, because most of the training data will be thrown away."
   ]
  },
  {
   "cell_type": "code",
   "execution_count": 344,
   "metadata": {
    "pycharm": {
     "name": "#%%\n"
    }
   },
   "outputs": [],
   "source": [
    "train_df, valid_df = train_test_split(df, test_size=0.1, random_state = 2020, stratify=df['disease'])"
   ]
  },
  {
   "cell_type": "code",
   "execution_count": 345,
   "metadata": {},
   "outputs": [
    {
     "data": {
      "text/plain": [
       "<matplotlib.axes._subplots.AxesSubplot at 0x28ea4bbc688>"
      ]
     },
     "execution_count": 345,
     "metadata": {},
     "output_type": "execute_result"
    },
    {
     "data": {
      "image/png": "[encoded data removed]",
      "text/plain": [
       "<Figure size 432x288 with 1 Axes>"
      ]
     },
     "metadata": {
      "needs_background": "light"
     },
     "output_type": "display_data"
    }
   ],
   "source": [
    "train_df.disease.value_counts().plot(kind='bar')"
   ]
  },
  {
   "cell_type": "code",
   "execution_count": 346,
   "metadata": {},
   "outputs": [
    {
     "data": {
      "text/plain": [
       "No_Finding            54325\n",
       "Infiltration          10615\n",
       "Atelectasis           10390\n",
       "Effusion               7236\n",
       "Consolidation          2998\n",
       "Nodule                 2708\n",
       "Mass                   2633\n",
       "Cardiomegaly           2164\n",
       "Pneumothorax           1980\n",
       "Edema                  1676\n",
       "Emphysema              1561\n",
       "Pleural_Thickening     1095\n",
       "Fibrosis               1094\n",
       "Pneumonia               293\n",
       "Hernia                  140\n",
       "Name: disease, dtype: int64"
      ]
     },
     "execution_count": 346,
     "metadata": {},
     "output_type": "execute_result"
    }
   ],
   "source": [
    "train_df.disease.value_counts()"
   ]
  },
  {
   "cell_type": "markdown",
   "metadata": {},
   "source": [
    "Balancing the dataset.\n",
    "\n",
    "Remove more samples from classes that have >5000 samples,\n",
    "\n",
    "Remove less samples from classes that have >1000 samples.\n",
    "\n",
    "Don't remove samples that contain Pneumonia (as a comorbidity)"
   ]
  },
  {
   "cell_type": "code",
   "execution_count": 427,
   "metadata": {},
   "outputs": [],
   "source": [
    "def drop_indices(df, column, label, drop=0.9, second_drop=0.8, \n",
    "                        first_count = 5000, second_count=1000):\n",
    "    count = df[df[column] == label].shape[0]\n",
    "    if(count > first_count):\n",
    "        count_for_drop = int(count * drop)\n",
    "        df = df.drop(df[((df[column] == label) & (df['Pneumonia'] == 0))][column].sample(count_for_drop).index)\n",
    "    elif(count > second_count):\n",
    "        drop = second_drop\n",
    "        count_for_drop = int(count * drop)\n",
    "        df = df.drop(df[((df[column] == label) & (df['Pneumonia'] == 0))][column].sample(count_for_drop).index)\n",
    "    return df"
   ]
  },
  {
   "cell_type": "code",
   "execution_count": 348,
   "metadata": {},
   "outputs": [],
   "source": [
    "# drop No-findings first\n",
    "train_df = drop_indices(train_df, 'disease', 'No_Finding', 0.8)"
   ]
  },
  {
   "cell_type": "code",
   "execution_count": 349,
   "metadata": {},
   "outputs": [
    {
     "data": {
      "text/plain": [
       "No_Finding            10865\n",
       "Infiltration          10615\n",
       "Atelectasis           10390\n",
       "Effusion               7236\n",
       "Consolidation          2998\n",
       "Nodule                 2708\n",
       "Mass                   2633\n",
       "Cardiomegaly           2164\n",
       "Pneumothorax           1980\n",
       "Edema                  1676\n",
       "Emphysema              1561\n",
       "Pleural_Thickening     1095\n",
       "Fibrosis               1094\n",
       "Pneumonia               293\n",
       "Hernia                  140\n",
       "Name: disease, dtype: int64"
      ]
     },
     "execution_count": 349,
     "metadata": {},
     "output_type": "execute_result"
    }
   ],
   "source": [
    "train_df.disease.value_counts()"
   ]
  },
  {
   "cell_type": "code",
   "execution_count": 350,
   "metadata": {},
   "outputs": [],
   "source": [
    "# now remove some samples from all the classes with 1000 and more samples\n",
    "for disease in diseases:\n",
    "    train_df = drop_indices(train_df, 'disease', disease)"
   ]
  },
  {
   "cell_type": "code",
   "execution_count": 351,
   "metadata": {},
   "outputs": [
    {
     "data": {
      "text/plain": [
       "<matplotlib.axes._subplots.AxesSubplot at 0x28de88023c8>"
      ]
     },
     "execution_count": 351,
     "metadata": {},
     "output_type": "execute_result"
    },
    {
     "data": {
      "image/png": "[encoded data removed]",
      "text/plain": [
       "<Figure size 432x288 with 1 Axes>"
      ]
     },
     "metadata": {
      "needs_background": "light"
     },
     "output_type": "display_data"
    }
   ],
   "source": [
    "train_df.disease.value_counts().plot(kind='bar')"
   ]
  },
  {
   "cell_type": "code",
   "execution_count": 352,
   "metadata": {},
   "outputs": [
    {
     "data": {
      "text/plain": [
       "<matplotlib.axes._subplots.AxesSubplot at 0x28e975b0cc8>"
      ]
     },
     "execution_count": 352,
     "metadata": {},
     "output_type": "execute_result"
    },
    {
     "data": {
      "image/png": "[encoded data removed]",
      "text/plain": [
       "<Figure size 432x288 with 1 Axes>"
      ]
     },
     "metadata": {
      "needs_background": "light"
     },
     "output_type": "display_data"
    }
   ],
   "source": [
    "valid_df.disease.value_counts().plot(kind='bar')"
   ]
  },
  {
   "cell_type": "code",
   "execution_count": 353,
   "metadata": {},
   "outputs": [
    {
     "data": {
      "text/plain": [
       "No_Finding            6036\n",
       "Infiltration          1180\n",
       "Atelectasis           1155\n",
       "Effusion               804\n",
       "Consolidation          333\n",
       "Nodule                 301\n",
       "Mass                   293\n",
       "Cardiomegaly           240\n",
       "Pneumothorax           220\n",
       "Edema                  186\n",
       "Emphysema              173\n",
       "Pleural_Thickening     122\n",
       "Fibrosis               121\n",
       "Pneumonia               32\n",
       "Hernia                  16\n",
       "Name: disease, dtype: int64"
      ]
     },
     "execution_count": 353,
     "metadata": {},
     "output_type": "execute_result"
    }
   ],
   "source": [
    "valid_df.disease.value_counts()"
   ]
  },
  {
   "cell_type": "markdown",
   "metadata": {},
   "source": [
    "Validation dataset seems more balanced, but in order to pay more attention on samples with pneumonia, I'll also remove some samples from this dataset."
   ]
  },
  {
   "cell_type": "code",
   "execution_count": 355,
   "metadata": {},
   "outputs": [],
   "source": [
    "# drop No-findings first\n",
    "valid_df = drop_indices(valid_df, 'disease', 'No_Finding', 0.8)"
   ]
  },
  {
   "cell_type": "code",
   "execution_count": 356,
   "metadata": {},
   "outputs": [
    {
     "data": {
      "text/plain": [
       "No_Finding            1208\n",
       "Infiltration          1180\n",
       "Atelectasis           1155\n",
       "Effusion               804\n",
       "Consolidation          333\n",
       "Nodule                 301\n",
       "Mass                   293\n",
       "Cardiomegaly           240\n",
       "Pneumothorax           220\n",
       "Edema                  186\n",
       "Emphysema              173\n",
       "Pleural_Thickening     122\n",
       "Fibrosis               121\n",
       "Pneumonia               32\n",
       "Hernia                  16\n",
       "Name: disease, dtype: int64"
      ]
     },
     "execution_count": 356,
     "metadata": {},
     "output_type": "execute_result"
    }
   ],
   "source": [
    "valid_df.disease.value_counts()"
   ]
  },
  {
   "cell_type": "code",
   "execution_count": 428,
   "metadata": {},
   "outputs": [],
   "source": [
    "# now remove some samples from all the classes with 1000 and more samples\n",
    "for disease in diseases:\n",
    "    valid_df = drop_indices(valid_df, 'disease', disease, second_drop=0.5, first_count=500, second_count=100)"
   ]
  },
  {
   "cell_type": "code",
   "execution_count": 429,
   "metadata": {},
   "outputs": [
    {
     "data": {
      "text/plain": [
       "<matplotlib.axes._subplots.AxesSubplot at 0x2905547a808>"
      ]
     },
     "execution_count": 429,
     "metadata": {},
     "output_type": "execute_result"
    },
    {
     "data": {
      "image/png": "[encoded data removed]",
      "text/plain": [
       "<Figure size 432x288 with 1 Axes>"
      ]
     },
     "metadata": {
      "needs_background": "light"
     },
     "output_type": "display_data"
    }
   ],
   "source": [
    "valid_df.disease.value_counts().plot(kind='bar')"
   ]
  },
  {
   "cell_type": "code",
   "execution_count": 359,
   "metadata": {},
   "outputs": [
    {
     "data": {
      "text/plain": [
       "Consolidation         167\n",
       "Nodule                151\n",
       "Mass                  147\n",
       "No_Finding            121\n",
       "Cardiomegaly          120\n",
       "Infiltration          118\n",
       "Atelectasis           116\n",
       "Pneumothorax          110\n",
       "Edema                  93\n",
       "Emphysema              87\n",
       "Effusion               81\n",
       "Pleural_Thickening     61\n",
       "Fibrosis               61\n",
       "Pneumonia              32\n",
       "Hernia                 16\n",
       "Name: disease, dtype: int64"
      ]
     },
     "execution_count": 359,
     "metadata": {},
     "output_type": "execute_result"
    }
   ],
   "source": [
    "valid_df.disease.value_counts()"
   ]
  },
  {
   "cell_type": "markdown",
   "metadata": {},
   "source": [
    "Now, validation set looks more balanced too.\n",
    "\n",
    "### 3. Add image generators for data augmentation"
   ]
  },
  {
   "cell_type": "code",
   "execution_count": 360,
   "metadata": {
    "pycharm": {
     "name": "#%%\n"
    }
   },
   "outputs": [],
   "source": [
    "train_df = train_df.assign(labels = train_df['finding_labels'].str.split('|'))\n",
    "valid_df = valid_df.assign(labels = valid_df['finding_labels'].str.split('|'))"
   ]
  },
  {
   "cell_type": "code",
   "execution_count": 394,
   "metadata": {
    "pycharm": {
     "name": "#%%\n"
    }
   },
   "outputs": [
    {
     "name": "stdout",
     "output_type": "stream",
     "text": [
      "Found 7930 validated image filenames belonging to 15 classes.\n",
      "Found 1481 validated image filenames belonging to 15 classes.\n",
      "Found 1481 validated image filenames belonging to 15 classes.\n"
     ]
    }
   ],
   "source": [
    "with tf.device('/GPU:0'):\n",
    "    train_idg = ImageDataGenerator(rescale                         = 1/255,\n",
    "                                      samplewise_center            = True,\n",
    "                                      samplewise_std_normalization = True,\n",
    "                                      horizontal_flip              = True,\n",
    "                                      vertical_flip                = False,\n",
    "                                      height_shift_range           = 0.05,\n",
    "                                      width_shift_range            = 0.1,\n",
    "                                      rotation_range               = 5,\n",
    "                                      shear_range                  = 0.1,\n",
    "                                      fill_mode                    = 'reflect',\n",
    "                                      zoom_range                   = 0.15)\n",
    "    \n",
    "    valid_idg = ImageDataGenerator(rescale                     = 1/255,\n",
    "                                  samplewise_center            = True,\n",
    "                                  samplewise_std_normalization = True)\n",
    "\n",
    "    train_gen = train_idg.flow_from_dataframe(dataframe=train_df,\n",
    "                                                 directory=None,\n",
    "                                                 x_col='image_path',\n",
    "                                                 y_col='labels',\n",
    "                                                 class_mode='categorical',\n",
    "                                                 batch_size=batch_size,\n",
    "                                                 classes=diseases,\n",
    "                                                 target_size=(image_size, image_size))\n",
    "\n",
    "    valid_gen = valid_idg.flow_from_dataframe(dataframe=valid_df,\n",
    "                                                 directory=None,\n",
    "                                                 x_col='image_path',\n",
    "                                                 y_col='labels',\n",
    "                                                 class_mode='categorical',\n",
    "                                                 batch_size=batch_size,\n",
    "                                                 classes=diseases,\n",
    "                                                 target_size=(image_size, image_size))\n",
    "\n",
    "    test_X, test_Y = next(valid_idg.flow_from_dataframe(dataframe=valid_df,\n",
    "                                                           directory=None,\n",
    "                                                           x_col='image_path',\n",
    "                                                           y_col='labels',\n",
    "                                                           class_mode='categorical',\n",
    "                                                           batch_size=1024,\n",
    "                                                           classes=diseases,\n",
    "                                                           target_size=(image_size, image_size)))"
   ]
  },
  {
   "cell_type": "markdown",
   "metadata": {},
   "source": [
    "### 4. Load and train the model.\n",
    "\n",
    "I choose inceptionResNetV2 as the best model currently available in the keras.application package. I also choose to retrain the entire model on the x-rays data.   "
   ]
  },
  {
   "cell_type": "code",
   "execution_count": 407,
   "metadata": {
    "pycharm": {
     "name": "#%%\n"
    }
   },
   "outputs": [],
   "source": [
    "from tensorflow.keras.applications.inception_resnet_v2 import InceptionResNetV2\n",
    "\n",
    "base_model = InceptionResNetV2(include_top=False, weights='imagenet', input_shape=(256, 256, 3))\n",
    "x = base_model.output\n",
    "x = tf.keras.layers.GlobalAveragePooling2D()(x)\n",
    "output = tf.keras.layers.Dense(len(diseases), activation=\"sigmoid\")(x)\n",
    "model = tf.keras.Model(base_model.input, output)\n",
    "model.compile(optimizer=tf.keras.optimizers.Adam(), loss='binary_crossentropy', metrics=['accuracy'])"
   ]
  },
  {
   "cell_type": "code",
   "execution_count": 408,
   "metadata": {
    "pycharm": {
     "name": "#%%\n"
    }
   },
   "outputs": [],
   "source": [
    "def get_callbacks(model_name):\n",
    "    callbacks = []\n",
    "    tensor_board = tf.keras.callbacks.TensorBoard(log_dir='logs', histogram_freq=0, profile_batch = 100000000)\n",
    "    callbacks.append(tensor_board)\n",
    "    checkpoint = tf.keras.callbacks.ModelCheckpoint(\n",
    "        filepath=f'model.{model_name}.h5',\n",
    "        verbose=1,\n",
    "        save_best_only=True)\n",
    "    callbacks.append(checkpoint)\n",
    "    return callbacks"
   ]
  },
  {
   "cell_type": "code",
   "execution_count": 409,
   "metadata": {},
   "outputs": [],
   "source": [
    "# set higher weight for pneumonia\n",
    "class_weights = [1 for disease in diseases]\n",
    "class_weights[-1] = 10"
   ]
  },
  {
   "cell_type": "code",
   "execution_count": 410,
   "metadata": {
    "pycharm": {
     "name": "#%%\n"
    }
   },
   "outputs": [
    {
     "name": "stdout",
     "output_type": "stream",
     "text": [
      "WARNING:tensorflow:sample_weight modes were coerced from\n",
      "  ...\n",
      "    to  \n",
      "  ['...']\n",
      "WARNING:tensorflow:sample_weight modes were coerced from\n",
      "  ...\n",
      "    to  \n",
      "  ['...']\n",
      "Train for 248 steps, validate for 47 steps\n",
      "Epoch 1/50\n",
      "247/248 [============================>.] - ETA: 1s - loss: 0.3040 - accuracy: 0.8931\n",
      "Epoch 00001: val_loss improved from inf to 0.37588, saving model to model.inceptionresnetv2.h5\n",
      "248/248 [==============================] - 327s 1s/step - loss: 0.3038 - accuracy: 0.8931 - val_loss: 0.3759 - val_accuracy: 0.8644\n",
      "Epoch 2/50\n",
      "247/248 [============================>.] - ETA: 1s - loss: 0.2850 - accuracy: 0.8958\n",
      "Epoch 00002: val_loss improved from 0.37588 to 0.29768, saving model to model.inceptionresnetv2.h5\n",
      "248/248 [==============================] - 293s 1s/step - loss: 0.2849 - accuracy: 0.8957 - val_loss: 0.2977 - val_accuracy: 0.8981\n",
      "Epoch 3/50\n",
      "247/248 [============================>.] - ETA: 1s - loss: 0.2773 - accuracy: 0.8969\n",
      "Epoch 00003: val_loss did not improve from 0.29768\n",
      "248/248 [==============================] - 292s 1s/step - loss: 0.2774 - accuracy: 0.8969 - val_loss: 0.4717 - val_accuracy: 0.8738\n",
      "Epoch 4/50\n",
      "247/248 [============================>.] - ETA: 1s - loss: 0.2702 - accuracy: 0.8987\n",
      "Epoch 00004: val_loss did not improve from 0.29768\n",
      "248/248 [==============================] - 293s 1s/step - loss: 0.2702 - accuracy: 0.8987 - val_loss: 0.2981 - val_accuracy: 0.8962\n",
      "Epoch 5/50\n",
      "247/248 [============================>.] - ETA: 1s - loss: 0.2658 - accuracy: 0.9002\n",
      "Epoch 00005: val_loss did not improve from 0.29768\n",
      "248/248 [==============================] - 294s 1s/step - loss: 0.2658 - accuracy: 0.9002 - val_loss: 0.3054 - val_accuracy: 0.8912\n",
      "Epoch 6/50\n",
      "247/248 [============================>.] - ETA: 1s - loss: 0.2598 - accuracy: 0.9015\n",
      "Epoch 00006: val_loss did not improve from 0.29768\n",
      "248/248 [==============================] - 290s 1s/step - loss: 0.2596 - accuracy: 0.9016 - val_loss: 0.3201 - val_accuracy: 0.8871\n",
      "Epoch 7/50\n",
      "247/248 [============================>.] - ETA: 1s - loss: 0.2584 - accuracy: 0.9015\n",
      "Epoch 00007: val_loss did not improve from 0.29768\n",
      "248/248 [==============================] - 294s 1s/step - loss: 0.2583 - accuracy: 0.9016 - val_loss: 0.3005 - val_accuracy: 0.8935\n",
      "Epoch 8/50\n",
      "247/248 [============================>.] - ETA: 1s - loss: 0.2549 - accuracy: 0.9017\n",
      "Epoch 00008: val_loss did not improve from 0.29768\n",
      "248/248 [==============================] - 294s 1s/step - loss: 0.2548 - accuracy: 0.9017 - val_loss: 0.3687 - val_accuracy: 0.8815\n",
      "Epoch 9/50\n",
      "247/248 [============================>.] - ETA: 1s - loss: 0.2478 - accuracy: 0.9039\n",
      "Epoch 00009: val_loss improved from 0.29768 to 0.29164, saving model to model.inceptionresnetv2.h5\n",
      "248/248 [==============================] - 299s 1s/step - loss: 0.2478 - accuracy: 0.9039 - val_loss: 0.2916 - val_accuracy: 0.8953\n",
      "Epoch 10/50\n",
      "247/248 [============================>.] - ETA: 1s - loss: 0.2421 - accuracy: 0.9053\n",
      "Epoch 00010: val_loss did not improve from 0.29164\n",
      "248/248 [==============================] - 297s 1s/step - loss: 0.2421 - accuracy: 0.9053 - val_loss: 0.3135 - val_accuracy: 0.8807\n",
      "Epoch 11/50\n",
      "247/248 [============================>.] - ETA: 1s - loss: 0.2414 - accuracy: 0.9058\n",
      "Epoch 00011: val_loss did not improve from 0.29164\n",
      "248/248 [==============================] - 296s 1s/step - loss: 0.2415 - accuracy: 0.9058 - val_loss: 0.3031 - val_accuracy: 0.8967\n",
      "Epoch 12/50\n",
      "247/248 [============================>.] - ETA: 1s - loss: 0.2333 - accuracy: 0.9082\n",
      "Epoch 00012: val_loss improved from 0.29164 to 0.28163, saving model to model.inceptionresnetv2.h5\n",
      "248/248 [==============================] - 295s 1s/step - loss: 0.2333 - accuracy: 0.9082 - val_loss: 0.2816 - val_accuracy: 0.8962\n",
      "Epoch 13/50\n",
      "247/248 [============================>.] - ETA: 1s - loss: 0.2281 - accuracy: 0.9103\n",
      "Epoch 00013: val_loss did not improve from 0.28163\n",
      "248/248 [==============================] - 290s 1s/step - loss: 0.2281 - accuracy: 0.9103 - val_loss: 0.3218 - val_accuracy: 0.8896\n",
      "Epoch 14/50\n",
      "247/248 [============================>.] - ETA: 1s - loss: 0.2211 - accuracy: 0.9131\n",
      "Epoch 00014: val_loss did not improve from 0.28163\n",
      "248/248 [==============================] - 297s 1s/step - loss: 0.2211 - accuracy: 0.9131 - val_loss: 0.3344 - val_accuracy: 0.8777\n",
      "Epoch 15/50\n",
      "247/248 [============================>.] - ETA: 1s - loss: 0.2127 - accuracy: 0.9152\n",
      "Epoch 00015: val_loss did not improve from 0.28163\n",
      "248/248 [==============================] - 295s 1s/step - loss: 0.2127 - accuracy: 0.9151 - val_loss: 0.3343 - val_accuracy: 0.8937\n",
      "Epoch 16/50\n",
      "247/248 [============================>.] - ETA: 1s - loss: 0.2066 - accuracy: 0.9180\n",
      "Epoch 00016: val_loss did not improve from 0.28163\n",
      "248/248 [==============================] - 291s 1s/step - loss: 0.2067 - accuracy: 0.9180 - val_loss: 0.3252 - val_accuracy: 0.8862\n",
      "Epoch 17/50\n",
      "247/248 [============================>.] - ETA: 1s - loss: 0.1961 - accuracy: 0.9213\n",
      "Epoch 00017: val_loss did not improve from 0.28163\n",
      "248/248 [==============================] - 290s 1s/step - loss: 0.1961 - accuracy: 0.9212 - val_loss: 0.3179 - val_accuracy: 0.8924\n",
      "Epoch 18/50\n",
      "247/248 [============================>.] - ETA: 1s - loss: 0.1850 - accuracy: 0.9249\n",
      "Epoch 00018: val_loss did not improve from 0.28163\n",
      "248/248 [==============================] - 289s 1s/step - loss: 0.1852 - accuracy: 0.9249 - val_loss: 0.3622 - val_accuracy: 0.8681\n",
      "Epoch 19/50\n",
      "247/248 [============================>.] - ETA: 1s - loss: 0.1831 - accuracy: 0.9263\n",
      "Epoch 00019: val_loss did not improve from 0.28163\n",
      "248/248 [==============================] - 289s 1s/step - loss: 0.1837 - accuracy: 0.9261 - val_loss: 0.5614 - val_accuracy: 0.7958\n",
      "Epoch 20/50\n",
      "247/248 [============================>.] - ETA: 1s - loss: 0.2042 - accuracy: 0.9180\n",
      "Epoch 00020: val_loss did not improve from 0.28163\n",
      "248/248 [==============================] - 289s 1s/step - loss: 0.2040 - accuracy: 0.9181 - val_loss: 0.3387 - val_accuracy: 0.8808\n",
      "Epoch 21/50\n",
      "247/248 [============================>.] - ETA: 1s - loss: 0.1668 - accuracy: 0.9325\n",
      "Epoch 00021: val_loss did not improve from 0.28163\n",
      "248/248 [==============================] - 289s 1s/step - loss: 0.1668 - accuracy: 0.9326 - val_loss: 0.3571 - val_accuracy: 0.8884\n",
      "Epoch 22/50\n",
      "247/248 [============================>.] - ETA: 1s - loss: 0.1496 - accuracy: 0.9390\n",
      "Epoch 00022: val_loss did not improve from 0.28163\n",
      "248/248 [==============================] - 290s 1s/step - loss: 0.1496 - accuracy: 0.9390 - val_loss: 0.4119 - val_accuracy: 0.8786\n",
      "Epoch 23/50\n",
      "247/248 [============================>.] - ETA: 1s - loss: 0.1356 - accuracy: 0.9452\n",
      "Epoch 00023: val_loss did not improve from 0.28163\n",
      "248/248 [==============================] - 290s 1s/step - loss: 0.1356 - accuracy: 0.9451 - val_loss: 0.3968 - val_accuracy: 0.8765\n",
      "Epoch 24/50\n",
      "247/248 [============================>.] - ETA: 1s - loss: 0.1245 - accuracy: 0.9493\n",
      "Epoch 00024: val_loss did not improve from 0.28163\n",
      "248/248 [==============================] - 291s 1s/step - loss: 0.1246 - accuracy: 0.9493 - val_loss: 0.4580 - val_accuracy: 0.8768\n",
      "Epoch 25/50\n",
      "247/248 [============================>.] - ETA: 1s - loss: 0.1138 - accuracy: 0.9538\n",
      "Epoch 00025: val_loss did not improve from 0.28163\n",
      "248/248 [==============================] - 291s 1s/step - loss: 0.1138 - accuracy: 0.9538 - val_loss: 0.3916 - val_accuracy: 0.8795\n",
      "Epoch 26/50\n",
      "247/248 [============================>.] - ETA: 1s - loss: 0.1029 - accuracy: 0.9593\n",
      "Epoch 00026: val_loss did not improve from 0.28163\n",
      "248/248 [==============================] - 291s 1s/step - loss: 0.1029 - accuracy: 0.9593 - val_loss: 0.5034 - val_accuracy: 0.8705\n",
      "Epoch 27/50\n",
      "247/248 [============================>.] - ETA: 1s - loss: 0.0945 - accuracy: 0.9626\n",
      "Epoch 00027: val_loss did not improve from 0.28163\n",
      "248/248 [==============================] - 289s 1s/step - loss: 0.0946 - accuracy: 0.9626 - val_loss: 0.4912 - val_accuracy: 0.8804\n",
      "Epoch 28/50\n",
      "247/248 [============================>.] - ETA: 1s - loss: 0.0832 - accuracy: 0.9669\n",
      "Epoch 00028: val_loss did not improve from 0.28163\n",
      "248/248 [==============================] - 292s 1s/step - loss: 0.0833 - accuracy: 0.9669 - val_loss: 0.5303 - val_accuracy: 0.8708\n"
     ]
    },
    {
     "name": "stdout",
     "output_type": "stream",
     "text": [
      "Epoch 29/50\n",
      "247/248 [============================>.] - ETA: 1s - loss: 0.0752 - accuracy: 0.9701\n",
      "Epoch 00029: val_loss did not improve from 0.28163\n",
      "248/248 [==============================] - 292s 1s/step - loss: 0.0751 - accuracy: 0.9702 - val_loss: 0.5482 - val_accuracy: 0.8734\n",
      "Epoch 30/50\n",
      "247/248 [============================>.] - ETA: 1s - loss: 0.0696 - accuracy: 0.9727\n",
      "Epoch 00030: val_loss did not improve from 0.28163\n",
      "248/248 [==============================] - 291s 1s/step - loss: 0.0697 - accuracy: 0.9727 - val_loss: 0.6290 - val_accuracy: 0.8883\n",
      "Epoch 31/50\n",
      "247/248 [============================>.] - ETA: 1s - loss: 0.0632 - accuracy: 0.9761\n",
      "Epoch 00031: val_loss did not improve from 0.28163\n",
      "248/248 [==============================] - 289s 1s/step - loss: 0.0632 - accuracy: 0.9761 - val_loss: 0.6186 - val_accuracy: 0.8682\n",
      "Epoch 32/50\n",
      "247/248 [============================>.] - ETA: 1s - loss: 0.0565 - accuracy: 0.9783\n",
      "Epoch 00032: val_loss did not improve from 0.28163\n",
      "248/248 [==============================] - 289s 1s/step - loss: 0.0565 - accuracy: 0.9783 - val_loss: 0.5932 - val_accuracy: 0.8677\n",
      "Epoch 33/50\n",
      "247/248 [============================>.] - ETA: 1s - loss: 0.0553 - accuracy: 0.9786\n",
      "Epoch 00033: val_loss did not improve from 0.28163\n",
      "248/248 [==============================] - 289s 1s/step - loss: 0.0552 - accuracy: 0.9786 - val_loss: 0.6903 - val_accuracy: 0.8876\n",
      "Epoch 34/50\n",
      "247/248 [============================>.] - ETA: 1s - loss: 0.0499 - accuracy: 0.9808\n",
      "Epoch 00034: val_loss did not improve from 0.28163\n",
      "248/248 [==============================] - 289s 1s/step - loss: 0.0499 - accuracy: 0.9808 - val_loss: 0.6389 - val_accuracy: 0.8677\n",
      "Epoch 35/50\n",
      "247/248 [============================>.] - ETA: 1s - loss: 0.0485 - accuracy: 0.9816\n",
      "Epoch 00035: val_loss did not improve from 0.28163\n",
      "248/248 [==============================] - 290s 1s/step - loss: 0.0485 - accuracy: 0.9816 - val_loss: 0.6932 - val_accuracy: 0.8747\n",
      "Epoch 36/50\n",
      "247/248 [============================>.] - ETA: 1s - loss: 0.0456 - accuracy: 0.9825\n",
      "Epoch 00036: val_loss did not improve from 0.28163\n",
      "248/248 [==============================] - 289s 1s/step - loss: 0.0456 - accuracy: 0.9825 - val_loss: 0.7075 - val_accuracy: 0.8713\n",
      "Epoch 37/50\n",
      "247/248 [============================>.] - ETA: 1s - loss: 0.0416 - accuracy: 0.9843\n",
      "Epoch 00037: val_loss did not improve from 0.28163\n",
      "248/248 [==============================] - 279s 1s/step - loss: 0.0416 - accuracy: 0.9843 - val_loss: 0.6505 - val_accuracy: 0.8760\n",
      "Epoch 38/50\n",
      "247/248 [============================>.] - ETA: 1s - loss: 0.0361 - accuracy: 0.9870\n",
      "Epoch 00038: val_loss did not improve from 0.28163\n",
      "248/248 [==============================] - 290s 1s/step - loss: 0.0363 - accuracy: 0.9869 - val_loss: 0.7613 - val_accuracy: 0.8779\n",
      "Epoch 39/50\n",
      "247/248 [============================>.] - ETA: 1s - loss: 0.0357 - accuracy: 0.9865\n",
      "Epoch 00039: val_loss did not improve from 0.28163\n",
      "248/248 [==============================] - 290s 1s/step - loss: 0.0357 - accuracy: 0.9865 - val_loss: 0.8955 - val_accuracy: 0.8764\n",
      "Epoch 40/50\n",
      "247/248 [============================>.] - ETA: 1s - loss: 0.0347 - accuracy: 0.9872\n",
      "Epoch 00040: val_loss did not improve from 0.28163\n",
      "248/248 [==============================] - 289s 1s/step - loss: 0.0347 - accuracy: 0.9872 - val_loss: 0.6997 - val_accuracy: 0.8597\n",
      "Epoch 41/50\n",
      "247/248 [============================>.] - ETA: 1s - loss: 0.0364 - accuracy: 0.9865\n",
      "Epoch 00041: val_loss did not improve from 0.28163\n",
      "248/248 [==============================] - 289s 1s/step - loss: 0.0365 - accuracy: 0.9865 - val_loss: 0.6935 - val_accuracy: 0.8819\n",
      "Epoch 42/50\n",
      "247/248 [============================>.] - ETA: 1s - loss: 0.0363 - accuracy: 0.9863\n",
      "Epoch 00042: val_loss did not improve from 0.28163\n",
      "248/248 [==============================] - 289s 1s/step - loss: 0.0362 - accuracy: 0.9864 - val_loss: 0.7973 - val_accuracy: 0.8819\n",
      "Epoch 43/50\n",
      "247/248 [============================>.] - ETA: 1s - loss: 0.0306 - accuracy: 0.9885\n",
      "Epoch 00043: val_loss did not improve from 0.28163\n",
      "248/248 [==============================] - 289s 1s/step - loss: 0.0306 - accuracy: 0.9885 - val_loss: 0.6842 - val_accuracy: 0.8761\n",
      "Epoch 44/50\n",
      "247/248 [============================>.] - ETA: 1s - loss: 0.0283 - accuracy: 0.9897\n",
      "Epoch 00044: val_loss did not improve from 0.28163\n",
      "248/248 [==============================] - 289s 1s/step - loss: 0.0283 - accuracy: 0.9897 - val_loss: 0.7151 - val_accuracy: 0.8721\n",
      "Epoch 45/50\n",
      "247/248 [============================>.] - ETA: 1s - loss: 0.0288 - accuracy: 0.9895\n",
      "Epoch 00045: val_loss did not improve from 0.28163\n",
      "248/248 [==============================] - 289s 1s/step - loss: 0.0289 - accuracy: 0.9895 - val_loss: 0.7858 - val_accuracy: 0.8668\n",
      "Epoch 46/50\n",
      "247/248 [============================>.] - ETA: 1s - loss: 0.0275 - accuracy: 0.9897\n",
      "Epoch 00046: val_loss did not improve from 0.28163\n",
      "248/248 [==============================] - 289s 1s/step - loss: 0.0276 - accuracy: 0.9897 - val_loss: 0.7731 - val_accuracy: 0.8745\n",
      "Epoch 47/50\n",
      "247/248 [============================>.] - ETA: 1s - loss: 0.0295 - accuracy: 0.9892\n",
      "Epoch 00047: val_loss did not improve from 0.28163\n",
      "248/248 [==============================] - 290s 1s/step - loss: 0.0295 - accuracy: 0.9891 - val_loss: 0.9716 - val_accuracy: 0.8699\n",
      "Epoch 48/50\n",
      "247/248 [============================>.] - ETA: 1s - loss: 0.0295 - accuracy: 0.9890\n",
      "Epoch 00048: val_loss did not improve from 0.28163\n",
      "248/248 [==============================] - 289s 1s/step - loss: 0.0295 - accuracy: 0.9890 - val_loss: 0.7993 - val_accuracy: 0.8719\n",
      "Epoch 49/50\n",
      "247/248 [============================>.] - ETA: 1s - loss: 0.0245 - accuracy: 0.9912\n",
      "Epoch 00049: val_loss did not improve from 0.28163\n",
      "248/248 [==============================] - 289s 1s/step - loss: 0.0246 - accuracy: 0.9912 - val_loss: 0.9493 - val_accuracy: 0.8602\n",
      "Epoch 50/50\n",
      "247/248 [============================>.] - ETA: 1s - loss: 0.0247 - accuracy: 0.9909\n",
      "Epoch 00050: val_loss did not improve from 0.28163\n",
      "248/248 [==============================] - 290s 1s/step - loss: 0.0247 - accuracy: 0.9909 - val_loss: 0.8378 - val_accuracy: 0.8626\n"
     ]
    }
   ],
   "source": [
    "callbacks = get_callbacks('inceptionresnetv2')\n",
    "\n",
    "with tf.device('/GPU:0'):\n",
    "    model.fit(train_gen,\n",
    "                  #steps_per_epoch=100,\n",
    "                  #validation_data=(test_X, test_Y),\n",
    "                  validation_data=valid_gen,\n",
    "                  epochs=50,\n",
    "                  class_weight = class_weights,\n",
    "                  callbacks=callbacks)"
   ]
  },
  {
   "cell_type": "code",
   "execution_count": 448,
   "metadata": {},
   "outputs": [
    {
     "data": {
      "text/plain": [
       "<tensorflow.python.keras.callbacks.History at 0x28fde651548>"
      ]
     },
     "execution_count": 448,
     "metadata": {},
     "output_type": "execute_result"
    }
   ],
   "source": [
    "model.history"
   ]
  },
  {
   "cell_type": "markdown",
   "metadata": {},
   "source": [
    "### 5. Analyze performance"
   ]
  },
  {
   "cell_type": "markdown",
   "metadata": {},
   "source": [
    "Now I want to compare two models:\n",
    "- Model with best validation loss (trained for 12 epochs)\n",
    "- Model with best training loss (trained for 50 epochs)\n"
   ]
  },
  {
   "cell_type": "code",
   "execution_count": 420,
   "metadata": {
    "pycharm": {
     "is_executing": true
    }
   },
   "outputs": [],
   "source": [
    "model_12ep = tf.keras.models.load_model('model.inceptionresnetv2.h5')"
   ]
  },
  {
   "cell_type": "code",
   "execution_count": 421,
   "metadata": {},
   "outputs": [],
   "source": [
    "y_pred_12ep = model_12ep.predict(test_X)"
   ]
  },
  {
   "cell_type": "code",
   "execution_count": 422,
   "metadata": {},
   "outputs": [
    {
     "name": "stdout",
     "output_type": "stream",
     "text": [
      "Cardiomegaly: actual: 8.40%, predicted: 11.95%\n",
      "No_Finding: actual: 7.81%, predicted: 7.87%\n",
      "Hernia: actual: 12.70%, predicted: 9.40%\n",
      "Mass: actual: 7.42%, predicted: 8.00%\n",
      "Infiltration: actual: 14.06%, predicted: 23.03%\n",
      "Effusion: actual: 6.64%, predicted: 3.92%\n",
      "Nodule: actual: 5.08%, predicted: 2.20%\n",
      "Emphysema: actual: 1.37%, predicted: 2.91%\n",
      "Atelectasis: actual: 20.51%, predicted: 26.91%\n",
      "Pleural_Thickening: actual: 14.75%, predicted: 14.45%\n",
      "Pneumothorax: actual: 9.18%, predicted: 5.63%\n",
      "Fibrosis: actual: 14.84%, predicted: 6.76%\n",
      "Consolidation: actual: 7.42%, predicted: 14.98%\n",
      "Edema: actual: 8.69%, predicted: 15.80%\n"
     ]
    },
    {
     "data": {
      "text/markdown": [
       "**Pneumonia: actual: 12.70%, predicted: 19.44%**"
      ],
      "text/plain": [
       "<IPython.core.display.Markdown object>"
      ]
     },
     "metadata": {},
     "output_type": "display_data"
    }
   ],
   "source": [
    "from IPython.display import Markdown, display\n",
    "for disease, p_count, t_count in zip(diseases,\n",
    "                                     100 * np.mean(y_pred_12ep, 0),\n",
    "                                     100 * np.mean(test_Y, 0)):\n",
    "    if(disease != 'Pneumonia'):\n",
    "        print('%s: actual: %2.2f%%, predicted: %2.2f%%' % (disease, t_count, p_count))\n",
    "    else:\n",
    "        msg_str = '%s: actual: %2.2f%%, predicted: %2.2f%%' % (disease, t_count, p_count)\n",
    "        display(Markdown('**'+msg_str+'**'))"
   ]
  },
  {
   "cell_type": "markdown",
   "metadata": {},
   "source": [
    "The model with the best validation loss detected pneumonia in 19% cases whereas the actual proportion is 12%. It doesn't say much, but the other numbers are mostly close to each other"
   ]
  },
  {
   "cell_type": "code",
   "execution_count": 423,
   "metadata": {},
   "outputs": [],
   "source": [
    "y_pred_50ep = model.predict(test_X)"
   ]
  },
  {
   "cell_type": "code",
   "execution_count": 424,
   "metadata": {},
   "outputs": [
    {
     "name": "stdout",
     "output_type": "stream",
     "text": [
      "Cardiomegaly: actual: 8.40%, predicted: 17.32%\n",
      "No_Finding: actual: 7.81%, predicted: 7.69%\n",
      "Hernia: actual: 12.70%, predicted: 14.62%\n",
      "Mass: actual: 7.42%, predicted: 9.40%\n",
      "Infiltration: actual: 14.06%, predicted: 4.79%\n",
      "Effusion: actual: 6.64%, predicted: 9.17%\n",
      "Nodule: actual: 5.08%, predicted: 0.29%\n",
      "Emphysema: actual: 1.37%, predicted: 0.93%\n",
      "Atelectasis: actual: 20.51%, predicted: 41.89%\n",
      "Pleural_Thickening: actual: 14.75%, predicted: 6.95%\n",
      "Pneumothorax: actual: 9.18%, predicted: 2.69%\n",
      "Fibrosis: actual: 14.84%, predicted: 10.47%\n",
      "Consolidation: actual: 7.42%, predicted: 1.96%\n",
      "Edema: actual: 8.69%, predicted: 20.13%\n"
     ]
    },
    {
     "data": {
      "text/markdown": [
       "**Pneumonia: actual: 12.70%, predicted: 9.43%**"
      ],
      "text/plain": [
       "<IPython.core.display.Markdown object>"
      ]
     },
     "metadata": {},
     "output_type": "display_data"
    }
   ],
   "source": [
    "from IPython.display import Markdown, display\n",
    "for disease, p_count, t_count in zip(diseases,\n",
    "                                     100 * np.mean(y_pred_50ep, 0),\n",
    "                                     100 * np.mean(test_Y, 0)):\n",
    "    if(disease != 'Pneumonia'):\n",
    "        print('%s: actual: %2.2f%%, predicted: %2.2f%%' % (disease, t_count, p_count))\n",
    "    else:\n",
    "        msg_str = '%s: actual: %2.2f%%, predicted: %2.2f%%' % (disease, t_count, p_count)\n",
    "        display(Markdown('**'+msg_str+'**'))"
   ]
  },
  {
   "cell_type": "markdown",
   "metadata": {},
   "source": [
    "The model that was trained for 50 epochs shows better numbers for pneumonia, but for the other classes there are significant gaps. It may be happening because of the class weights set 1 for other classes and 10 for pneumonia. "
   ]
  },
  {
   "cell_type": "markdown",
   "metadata": {},
   "source": [
    "Build a pipeline for analyzing the first model, then I will repeat the steps for the second model if needed and compare the results."
   ]
  },
  {
   "cell_type": "code",
   "execution_count": 425,
   "metadata": {},
   "outputs": [],
   "source": [
    "# get true labels for pneumonia. It's the last column \n",
    "true_labels = test_Y[:,-1]"
   ]
  },
  {
   "cell_type": "code",
   "execution_count": 442,
   "metadata": {},
   "outputs": [],
   "source": [
    "# get predictions\n",
    "pred_labels = y_pred_12ep[:,-1]"
   ]
  },
  {
   "cell_type": "code",
   "execution_count": 443,
   "metadata": {},
   "outputs": [],
   "source": [
    "#np.set_printoptions(precision=2, suppress=True)"
   ]
  },
  {
   "cell_type": "markdown",
   "metadata": {},
   "source": [
    "#### 5.1 Roc curve and auc score"
   ]
  },
  {
   "cell_type": "code",
   "execution_count": 481,
   "metadata": {},
   "outputs": [],
   "source": [
    "def plot_roc_curve_with_auc(true_labels, pred_labels):\n",
    "    roc_auc = roc_auc_score(true_labels, pred_labels)\n",
    "    fpr, tpr, thresholds = roc_curve(true_labels, pred_labels)\n",
    "\n",
    "    plt.title('Receiver Operating Characteristic')\n",
    "    plt.plot(fpr, tpr, 'b', label = 'AUC = %0.2f' % roc_auc)\n",
    "    plt.legend(loc = 'lower right')\n",
    "    plt.plot([0, 1], [0, 1],'r--')\n",
    "    plt.xlim([0, 1])\n",
    "    plt.ylim([0, 1])\n",
    "    plt.ylabel('True Positive Rate')\n",
    "    plt.xlabel('False Positive Rate')\n",
    "    plt.show()"
   ]
  },
  {
   "cell_type": "code",
   "execution_count": 482,
   "metadata": {},
   "outputs": [
    {
     "data": {
      "image/png": "[encoded data removed]",
      "text/plain": [
       "<Figure size 432x288 with 1 Axes>"
      ]
     },
     "metadata": {
      "needs_background": "light"
     },
     "output_type": "display_data"
    }
   ],
   "source": [
    "plot_roc_curve_with_auc(true_labels, pred_labels);"
   ]
  },
  {
   "cell_type": "markdown",
   "metadata": {},
   "source": [
    "The ROC curve looks fine for this task"
   ]
  },
  {
   "cell_type": "markdown",
   "metadata": {},
   "source": [
    "#### 5.2 Recall, F1, Precision and Accuracy"
   ]
  },
  {
   "cell_type": "code",
   "execution_count": 536,
   "metadata": {},
   "outputs": [
    {
     "data": {
      "text/html": [
       "<div>\n",
       "<style scoped>\n",
       "    .dataframe tbody tr th:only-of-type {\n",
       "        vertical-align: middle;\n",
       "    }\n",
       "\n",
       "    .dataframe tbody tr th {\n",
       "        vertical-align: top;\n",
       "    }\n",
       "\n",
       "    .dataframe thead th {\n",
       "        text-align: right;\n",
       "    }\n",
       "</style>\n",
       "<table border=\"1\" class=\"dataframe\">\n",
       "  <thead>\n",
       "    <tr style=\"text-align: right;\">\n",
       "      <th></th>\n",
       "      <th>threshold</th>\n",
       "      <th>recall</th>\n",
       "      <th>F1_score</th>\n",
       "      <th>precision</th>\n",
       "      <th>accuracy</th>\n",
       "      <th>total_score</th>\n",
       "      <th>total_normalized</th>\n",
       "    </tr>\n",
       "  </thead>\n",
       "  <tbody>\n",
       "    <tr>\n",
       "      <th>0</th>\n",
       "      <td>0.00</td>\n",
       "      <td>1.000000</td>\n",
       "      <td>0.225303</td>\n",
       "      <td>0.126953</td>\n",
       "      <td>0.126953</td>\n",
       "      <td>1.479210</td>\n",
       "      <td>0.000000</td>\n",
       "    </tr>\n",
       "    <tr>\n",
       "      <th>1</th>\n",
       "      <td>0.05</td>\n",
       "      <td>0.884615</td>\n",
       "      <td>0.308311</td>\n",
       "      <td>0.186688</td>\n",
       "      <td>0.496094</td>\n",
       "      <td>1.875708</td>\n",
       "      <td>0.408798</td>\n",
       "    </tr>\n",
       "    <tr>\n",
       "      <th>2</th>\n",
       "      <td>0.10</td>\n",
       "      <td>0.815385</td>\n",
       "      <td>0.359322</td>\n",
       "      <td>0.230435</td>\n",
       "      <td>0.630859</td>\n",
       "      <td>2.036001</td>\n",
       "      <td>0.574063</td>\n",
       "    </tr>\n",
       "    <tr>\n",
       "      <th>3</th>\n",
       "      <td>0.15</td>\n",
       "      <td>0.800000</td>\n",
       "      <td>0.413519</td>\n",
       "      <td>0.278820</td>\n",
       "      <td>0.711914</td>\n",
       "      <td>2.204253</td>\n",
       "      <td>0.747535</td>\n",
       "    </tr>\n",
       "    <tr>\n",
       "      <th>4</th>\n",
       "      <td>0.20</td>\n",
       "      <td>0.761538</td>\n",
       "      <td>0.445946</td>\n",
       "      <td>0.315287</td>\n",
       "      <td>0.759766</td>\n",
       "      <td>2.282537</td>\n",
       "      <td>0.828246</td>\n",
       "    </tr>\n",
       "    <tr>\n",
       "      <th>5</th>\n",
       "      <td>0.25</td>\n",
       "      <td>0.723077</td>\n",
       "      <td>0.479592</td>\n",
       "      <td>0.358779</td>\n",
       "      <td>0.800781</td>\n",
       "      <td>2.362229</td>\n",
       "      <td>0.910411</td>\n",
       "    </tr>\n",
       "    <tr>\n",
       "      <th>6</th>\n",
       "      <td>0.30</td>\n",
       "      <td>0.684615</td>\n",
       "      <td>0.500000</td>\n",
       "      <td>0.393805</td>\n",
       "      <td>0.826172</td>\n",
       "      <td>2.404593</td>\n",
       "      <td>0.954089</td>\n",
       "    </tr>\n",
       "    <tr>\n",
       "      <th>7</th>\n",
       "      <td>0.35</td>\n",
       "      <td>0.638462</td>\n",
       "      <td>0.507645</td>\n",
       "      <td>0.421320</td>\n",
       "      <td>0.842773</td>\n",
       "      <td>2.410200</td>\n",
       "      <td>0.959870</td>\n",
       "    </tr>\n",
       "    <tr>\n",
       "      <th>8</th>\n",
       "      <td>0.40</td>\n",
       "      <td>0.584615</td>\n",
       "      <td>0.510067</td>\n",
       "      <td>0.452381</td>\n",
       "      <td>0.857422</td>\n",
       "      <td>2.404485</td>\n",
       "      <td>0.953978</td>\n",
       "    </tr>\n",
       "    <tr>\n",
       "      <th>9</th>\n",
       "      <td>0.45</td>\n",
       "      <td>0.546154</td>\n",
       "      <td>0.505338</td>\n",
       "      <td>0.470199</td>\n",
       "      <td>0.864258</td>\n",
       "      <td>2.385948</td>\n",
       "      <td>0.934866</td>\n",
       "    </tr>\n",
       "    <tr>\n",
       "      <th>10</th>\n",
       "      <td>0.50</td>\n",
       "      <td>0.530769</td>\n",
       "      <td>0.516854</td>\n",
       "      <td>0.503650</td>\n",
       "      <td>0.874023</td>\n",
       "      <td>2.425296</td>\n",
       "      <td>0.975434</td>\n",
       "    </tr>\n",
       "    <tr>\n",
       "      <th>11</th>\n",
       "      <td>0.55</td>\n",
       "      <td>0.500000</td>\n",
       "      <td>0.511811</td>\n",
       "      <td>0.524194</td>\n",
       "      <td>0.878906</td>\n",
       "      <td>2.414911</td>\n",
       "      <td>0.964727</td>\n",
       "    </tr>\n",
       "    <tr>\n",
       "      <th>12</th>\n",
       "      <td>0.60</td>\n",
       "      <td>0.492308</td>\n",
       "      <td>0.520325</td>\n",
       "      <td>0.551724</td>\n",
       "      <td>0.884766</td>\n",
       "      <td>2.449123</td>\n",
       "      <td>1.000000</td>\n",
       "    </tr>\n",
       "    <tr>\n",
       "      <th>13</th>\n",
       "      <td>0.65</td>\n",
       "      <td>0.430769</td>\n",
       "      <td>0.495575</td>\n",
       "      <td>0.583333</td>\n",
       "      <td>0.888672</td>\n",
       "      <td>2.398350</td>\n",
       "      <td>0.947652</td>\n",
       "    </tr>\n",
       "    <tr>\n",
       "      <th>14</th>\n",
       "      <td>0.70</td>\n",
       "      <td>0.376923</td>\n",
       "      <td>0.462264</td>\n",
       "      <td>0.597561</td>\n",
       "      <td>0.888672</td>\n",
       "      <td>2.325420</td>\n",
       "      <td>0.872460</td>\n",
       "    </tr>\n",
       "    <tr>\n",
       "      <th>15</th>\n",
       "      <td>0.75</td>\n",
       "      <td>0.346154</td>\n",
       "      <td>0.450000</td>\n",
       "      <td>0.642857</td>\n",
       "      <td>0.892578</td>\n",
       "      <td>2.331589</td>\n",
       "      <td>0.878821</td>\n",
       "    </tr>\n",
       "    <tr>\n",
       "      <th>16</th>\n",
       "      <td>0.80</td>\n",
       "      <td>0.284615</td>\n",
       "      <td>0.395722</td>\n",
       "      <td>0.649123</td>\n",
       "      <td>0.889648</td>\n",
       "      <td>2.219109</td>\n",
       "      <td>0.762851</td>\n",
       "    </tr>\n",
       "    <tr>\n",
       "      <th>17</th>\n",
       "      <td>0.85</td>\n",
       "      <td>0.176923</td>\n",
       "      <td>0.278788</td>\n",
       "      <td>0.657143</td>\n",
       "      <td>0.883789</td>\n",
       "      <td>1.996643</td>\n",
       "      <td>0.533484</td>\n",
       "    </tr>\n",
       "    <tr>\n",
       "      <th>18</th>\n",
       "      <td>0.90</td>\n",
       "      <td>0.146154</td>\n",
       "      <td>0.245161</td>\n",
       "      <td>0.760000</td>\n",
       "      <td>0.885742</td>\n",
       "      <td>2.037057</td>\n",
       "      <td>0.575152</td>\n",
       "    </tr>\n",
       "    <tr>\n",
       "      <th>19</th>\n",
       "      <td>0.95</td>\n",
       "      <td>0.046154</td>\n",
       "      <td>0.088235</td>\n",
       "      <td>1.000000</td>\n",
       "      <td>0.878906</td>\n",
       "      <td>2.013295</td>\n",
       "      <td>0.550653</td>\n",
       "    </tr>\n",
       "  </tbody>\n",
       "</table>\n",
       "</div>"
      ],
      "text/plain": [
       "    threshold    recall  F1_score  precision  accuracy  total_score  \\\n",
       "0        0.00  1.000000  0.225303   0.126953  0.126953     1.479210   \n",
       "1        0.05  0.884615  0.308311   0.186688  0.496094     1.875708   \n",
       "2        0.10  0.815385  0.359322   0.230435  0.630859     2.036001   \n",
       "3        0.15  0.800000  0.413519   0.278820  0.711914     2.204253   \n",
       "4        0.20  0.761538  0.445946   0.315287  0.759766     2.282537   \n",
       "5        0.25  0.723077  0.479592   0.358779  0.800781     2.362229   \n",
       "6        0.30  0.684615  0.500000   0.393805  0.826172     2.404593   \n",
       "7        0.35  0.638462  0.507645   0.421320  0.842773     2.410200   \n",
       "8        0.40  0.584615  0.510067   0.452381  0.857422     2.404485   \n",
       "9        0.45  0.546154  0.505338   0.470199  0.864258     2.385948   \n",
       "10       0.50  0.530769  0.516854   0.503650  0.874023     2.425296   \n",
       "11       0.55  0.500000  0.511811   0.524194  0.878906     2.414911   \n",
       "12       0.60  0.492308  0.520325   0.551724  0.884766     2.449123   \n",
       "13       0.65  0.430769  0.495575   0.583333  0.888672     2.398350   \n",
       "14       0.70  0.376923  0.462264   0.597561  0.888672     2.325420   \n",
       "15       0.75  0.346154  0.450000   0.642857  0.892578     2.331589   \n",
       "16       0.80  0.284615  0.395722   0.649123  0.889648     2.219109   \n",
       "17       0.85  0.176923  0.278788   0.657143  0.883789     1.996643   \n",
       "18       0.90  0.146154  0.245161   0.760000  0.885742     2.037057   \n",
       "19       0.95  0.046154  0.088235   1.000000  0.878906     2.013295   \n",
       "\n",
       "    total_normalized  \n",
       "0           0.000000  \n",
       "1           0.408798  \n",
       "2           0.574063  \n",
       "3           0.747535  \n",
       "4           0.828246  \n",
       "5           0.910411  \n",
       "6           0.954089  \n",
       "7           0.959870  \n",
       "8           0.953978  \n",
       "9           0.934866  \n",
       "10          0.975434  \n",
       "11          0.964727  \n",
       "12          1.000000  \n",
       "13          0.947652  \n",
       "14          0.872460  \n",
       "15          0.878821  \n",
       "16          0.762851  \n",
       "17          0.533484  \n",
       "18          0.575152  \n",
       "19          0.550653  "
      ]
     },
     "execution_count": 536,
     "metadata": {},
     "output_type": "execute_result"
    }
   ],
   "source": [
    "arr=[]\n",
    "for threshold in np.arange(0, 1, 0.05):\n",
    "    row = {}\n",
    "    row['threshold'] = threshold\n",
    "    pred_labels_thresholded = np.zeros_like(pred_labels)\n",
    "    pred_labels_thresholded[pred_labels > threshold] = 1\n",
    "    row['recall'] = recall_score(true_labels, pred_labels_thresholded)\n",
    "    row['F1_score'] = f1_score(true_labels, pred_labels_thresholded)\n",
    "    row['precision'] = precision_score(true_labels, pred_labels_thresholded)\n",
    "    row['accuracy'] = accuracy_score(true_labels, pred_labels_thresholded)\n",
    "    row['total_score'] = row['recall'] + row['accuracy'] + row['F1_score'] + row['precision']\n",
    "    arr.append(row)\n",
    "res_df = pd.DataFrame(arr)\n",
    "res_df['total_normalized'] = (res_df.total_score - res_df.total_score.min())/(res_df.total_score.max()-res_df.total_score.min())\n",
    "res_df.head(20)"
   ]
  },
  {
   "cell_type": "markdown",
   "metadata": {},
   "source": [
    "The most important score is Recall, since we don't want to miss any patient with suspected pneumonia. We also need to take into account other metrics to make sure that the prediction of the model is reliable"
   ]
  },
  {
   "cell_type": "markdown",
   "metadata": {},
   "source": [
    "Let's visualize all metrics vs threshold."
   ]
  },
  {
   "cell_type": "code",
   "execution_count": 531,
   "metadata": {},
   "outputs": [
    {
     "data": {
      "image/png": "[encoded data removed]",
      "text/plain": [
       "<Figure size 1008x576 with 1 Axes>"
      ]
     },
     "metadata": {
      "needs_background": "light"
     },
     "output_type": "display_data"
    }
   ],
   "source": [
    "plt.figure(figsize=(14,8))\n",
    "plt.title('Different metrics vs. threshold')\n",
    "plt.xlabel('Threshold')\n",
    "plt.plot('threshold', 'recall', data=res_df, marker='o', markerfacecolor='orange', color='orange', linewidth=2)\n",
    "plt.plot('threshold', 'F1_score', data=res_df, color='blue', linewidth=2)\n",
    "plt.plot('threshold', 'precision', data=res_df, color='grey', linewidth=1)\n",
    "plt.plot('threshold', 'accuracy', data=res_df, color='skyblue', linewidth=1)\n",
    "plt.legend();"
   ]
  },
  {
   "cell_type": "markdown",
   "metadata": {},
   "source": [
    "This plot doesn't say much. It's better to plot the total score and recall score."
   ]
  },
  {
   "cell_type": "code",
   "execution_count": 540,
   "metadata": {},
   "outputs": [
    {
     "data": {
      "image/png": "[encoded data removed]",
      "text/plain": [
       "<Figure size 1008x576 with 1 Axes>"
      ]
     },
     "metadata": {
      "needs_background": "light"
     },
     "output_type": "display_data"
    }
   ],
   "source": [
    "plt.figure(figsize=(14,8))\n",
    "plt.title('Total score and recall vs. threshold')\n",
    "plt.xlabel('Threshold')\n",
    "plt.xticks(np.arange(0, 1+0.05, 0.05))\n",
    "plt.tick_params(labelsize=10)\n",
    "plt.plot('threshold', 'recall', data=res_df, marker='o', markerfacecolor='orange', color='orange', linewidth=2)\n",
    "plt.plot('threshold', 'total_normalized', data=res_df, color='blue', linewidth=2)\n",
    "plt.legend();"
   ]
  },
  {
   "cell_type": "markdown",
   "metadata": {},
   "source": [
    "#### 5.3. Setting threshold\n",
    "\n",
    "Based on this plot, we can set two thresholds:\n",
    "\n",
    "1. If we want to have highest recall while still keeping relatively high total score, we should pick threshold around 0.17\n",
    "2. If we want to maximize total score while still keeping high recall, the threshold should be around 0.28"
   ]
  },
  {
   "cell_type": "markdown",
   "metadata": {},
   "source": [
    "#### Additional plots"
   ]
  },
  {
   "cell_type": "code",
   "execution_count": 514,
   "metadata": {},
   "outputs": [
    {
     "data": {
      "image/png": "[encoded data removed]",
      "text/plain": [
       "<Figure size 1008x576 with 1 Axes>"
      ]
     },
     "metadata": {
      "needs_background": "light"
     },
     "output_type": "display_data"
    }
   ],
   "source": [
    "plt.rcParams.update({'font.size': 22})\n",
    "res_df.plot(x='precision', y='recall', title='Precision-Recall Curve', figsize=(14,8), fontsize=12);"
   ]
  },
  {
   "cell_type": "code",
   "execution_count": 507,
   "metadata": {},
   "outputs": [
    {
     "data": {
      "image/png": "[encoded data removed]",
      "text/plain": [
       "<Figure size 1008x576 with 1 Axes>"
      ]
     },
     "metadata": {
      "needs_background": "light"
     },
     "output_type": "display_data"
    }
   ],
   "source": [
    "res_df.plot(x='threshold', y='F1_score', title='F1 score to threshold curve', figsize=(14,8), fontsize=16);"
   ]
  },
  {
   "cell_type": "markdown",
   "metadata": {},
   "source": []
  }
 ],
 "metadata": {
  "kernelspec": {
   "display_name": "Python 3",
   "language": "python",
   "name": "python3"
  },
  "language_info": {
   "codemirror_mode": {
    "name": "ipython",
    "version": 3
   },
   "file_extension": ".py",
   "mimetype": "text/x-python",
   "name": "python",
   "nbconvert_exporter": "python",
   "pygments_lexer": "ipython3",
   "version": "3.7.7"
  }
 },
 "nbformat": 4,
 "nbformat_minor": 1
}