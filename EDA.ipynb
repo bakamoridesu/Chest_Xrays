{
 "cells": [
  {
   "cell_type": "code",
   "execution_count": 44,
   "metadata": {},
   "outputs": [],
   "source": [
    "import numpy as np # linear algebra\n",
    "import pandas as pd # data processing, CSV file I/O (e.g. pd.read_csv)\n",
    "import os\n",
    "from glob import glob\n",
    "%matplotlib inline\n",
    "import matplotlib.pyplot as plt\n",
    "import seaborn as sns\n",
    "\n",
    "##Import any other packages you may need here"
   ]
  },
  {
   "cell_type": "markdown",
   "metadata": {},
   "source": [
    "EDA is open-ended, and it is up to you to decide how to look at different ways to slice and dice your data. A good starting point is to look at the requirements for the FDA documentation in the final part of this project to guide (some) of the analyses you do. \n",
    "\n",
    "This EDA should also help to inform you of how pneumonia looks in the wild. E.g. what other types of diseases it's commonly found with, how often it is found, what ages it affects, etc. \n",
    "\n",
    "Note that this NIH dataset was not specifically acquired for pneumonia. So, while this is a representation of 'pneumonia in the wild,' the prevalence of pneumonia may be different if you were to take only chest x-rays that were acquired in an ER setting with suspicion of pneumonia. "
   ]
  },
  {
   "cell_type": "markdown",
   "metadata": {},
   "source": [
    "Perform the following EDA:\n",
    "* The patient demographic data such as gender, age, patient position,etc. (as it is available)\n",
    "* The x-ray views taken (i.e. view position)\n",
    "* The number of cases including: \n",
    "    * number of pneumonia cases,\n",
    "    * number of non-pneumonia cases\n",
    "* The distribution of other diseases that are comorbid with pneumonia\n",
    "* Number of disease per patient \n",
    "* Pixel-level assessments of the imaging data for healthy & disease states of interest (e.g. histograms of intensity values) and compare distributions across diseases.\n",
    "\n",
    "Note: use full NIH data to perform the first a few EDA items and use `sample_labels.csv` for the pixel-level assassements. "
   ]
  },
  {
   "cell_type": "markdown",
   "metadata": {},
   "source": [
    "Also, **describe your findings and how will you set up the model training based on the findings.**"
   ]
  },
  {
   "cell_type": "code",
   "execution_count": 45,
   "metadata": {},
   "outputs": [
    {
     "name": "stdout",
     "output_type": "stream",
     "text": [
      "Scans found: 0 , Total Headers 112120\n"
     ]
    },
    {
     "data": {
      "text/html": [
       "<div>\n",
       "<style scoped>\n",
       "    .dataframe tbody tr th:only-of-type {\n",
       "        vertical-align: middle;\n",
       "    }\n",
       "\n",
       "    .dataframe tbody tr th {\n",
       "        vertical-align: top;\n",
       "    }\n",
       "\n",
       "    .dataframe thead th {\n",
       "        text-align: right;\n",
       "    }\n",
       "</style>\n",
       "<table border=\"1\" class=\"dataframe\">\n",
       "  <thead>\n",
       "    <tr style=\"text-align: right;\">\n",
       "      <th></th>\n",
       "      <th>Image Index</th>\n",
       "      <th>Finding Labels</th>\n",
       "      <th>Follow-up #</th>\n",
       "      <th>Patient ID</th>\n",
       "      <th>Patient Age</th>\n",
       "      <th>Patient Gender</th>\n",
       "      <th>View Position</th>\n",
       "      <th>OriginalImage[Width</th>\n",
       "      <th>Height]</th>\n",
       "      <th>OriginalImagePixelSpacing[x</th>\n",
       "      <th>y]</th>\n",
       "      <th>Unnamed: 11</th>\n",
       "      <th>path</th>\n",
       "    </tr>\n",
       "  </thead>\n",
       "  <tbody>\n",
       "    <tr>\n",
       "      <th>20886</th>\n",
       "      <td>00005573_001.png</td>\n",
       "      <td>Effusion|Infiltration</td>\n",
       "      <td>1</td>\n",
       "      <td>5573</td>\n",
       "      <td>8</td>\n",
       "      <td>M</td>\n",
       "      <td>PA</td>\n",
       "      <td>2048</td>\n",
       "      <td>2500</td>\n",
       "      <td>0.171000</td>\n",
       "      <td>0.171000</td>\n",
       "      <td>NaN</td>\n",
       "      <td>None</td>\n",
       "    </tr>\n",
       "    <tr>\n",
       "      <th>100807</th>\n",
       "      <td>00026777_001.png</td>\n",
       "      <td>No Finding</td>\n",
       "      <td>1</td>\n",
       "      <td>26777</td>\n",
       "      <td>43</td>\n",
       "      <td>M</td>\n",
       "      <td>AP</td>\n",
       "      <td>3056</td>\n",
       "      <td>2544</td>\n",
       "      <td>0.139000</td>\n",
       "      <td>0.139000</td>\n",
       "      <td>NaN</td>\n",
       "      <td>None</td>\n",
       "    </tr>\n",
       "    <tr>\n",
       "      <th>101616</th>\n",
       "      <td>00026995_000.png</td>\n",
       "      <td>No Finding</td>\n",
       "      <td>0</td>\n",
       "      <td>26995</td>\n",
       "      <td>45</td>\n",
       "      <td>M</td>\n",
       "      <td>PA</td>\n",
       "      <td>2992</td>\n",
       "      <td>2991</td>\n",
       "      <td>0.143000</td>\n",
       "      <td>0.143000</td>\n",
       "      <td>NaN</td>\n",
       "      <td>None</td>\n",
       "    </tr>\n",
       "    <tr>\n",
       "      <th>12913</th>\n",
       "      <td>00003388_004.png</td>\n",
       "      <td>No Finding</td>\n",
       "      <td>4</td>\n",
       "      <td>3388</td>\n",
       "      <td>49</td>\n",
       "      <td>M</td>\n",
       "      <td>PA</td>\n",
       "      <td>2500</td>\n",
       "      <td>2048</td>\n",
       "      <td>0.168000</td>\n",
       "      <td>0.168000</td>\n",
       "      <td>NaN</td>\n",
       "      <td>None</td>\n",
       "    </tr>\n",
       "    <tr>\n",
       "      <th>103107</th>\n",
       "      <td>00027474_002.png</td>\n",
       "      <td>Atelectasis</td>\n",
       "      <td>2</td>\n",
       "      <td>27474</td>\n",
       "      <td>13</td>\n",
       "      <td>F</td>\n",
       "      <td>AP</td>\n",
       "      <td>3056</td>\n",
       "      <td>2544</td>\n",
       "      <td>0.139000</td>\n",
       "      <td>0.139000</td>\n",
       "      <td>NaN</td>\n",
       "      <td>None</td>\n",
       "    </tr>\n",
       "    <tr>\n",
       "      <th>107511</th>\n",
       "      <td>00029039_021.png</td>\n",
       "      <td>Effusion|Pneumothorax</td>\n",
       "      <td>21</td>\n",
       "      <td>29039</td>\n",
       "      <td>61</td>\n",
       "      <td>M</td>\n",
       "      <td>AP</td>\n",
       "      <td>3056</td>\n",
       "      <td>2544</td>\n",
       "      <td>0.139000</td>\n",
       "      <td>0.139000</td>\n",
       "      <td>NaN</td>\n",
       "      <td>None</td>\n",
       "    </tr>\n",
       "    <tr>\n",
       "      <th>62128</th>\n",
       "      <td>00015376_009.png</td>\n",
       "      <td>No Finding</td>\n",
       "      <td>9</td>\n",
       "      <td>15376</td>\n",
       "      <td>60</td>\n",
       "      <td>F</td>\n",
       "      <td>AP</td>\n",
       "      <td>2500</td>\n",
       "      <td>2048</td>\n",
       "      <td>0.168000</td>\n",
       "      <td>0.168000</td>\n",
       "      <td>NaN</td>\n",
       "      <td>None</td>\n",
       "    </tr>\n",
       "    <tr>\n",
       "      <th>18034</th>\n",
       "      <td>00004833_016.png</td>\n",
       "      <td>No Finding</td>\n",
       "      <td>16</td>\n",
       "      <td>4833</td>\n",
       "      <td>27</td>\n",
       "      <td>M</td>\n",
       "      <td>AP</td>\n",
       "      <td>2500</td>\n",
       "      <td>2048</td>\n",
       "      <td>0.171000</td>\n",
       "      <td>0.171000</td>\n",
       "      <td>NaN</td>\n",
       "      <td>None</td>\n",
       "    </tr>\n",
       "    <tr>\n",
       "      <th>32490</th>\n",
       "      <td>00008490_003.png</td>\n",
       "      <td>Fibrosis|Infiltration</td>\n",
       "      <td>3</td>\n",
       "      <td>8490</td>\n",
       "      <td>58</td>\n",
       "      <td>M</td>\n",
       "      <td>PA</td>\n",
       "      <td>2992</td>\n",
       "      <td>2991</td>\n",
       "      <td>0.143000</td>\n",
       "      <td>0.143000</td>\n",
       "      <td>NaN</td>\n",
       "      <td>None</td>\n",
       "    </tr>\n",
       "    <tr>\n",
       "      <th>3790</th>\n",
       "      <td>00001034_001.png</td>\n",
       "      <td>No Finding</td>\n",
       "      <td>1</td>\n",
       "      <td>1034</td>\n",
       "      <td>72</td>\n",
       "      <td>M</td>\n",
       "      <td>AP</td>\n",
       "      <td>2500</td>\n",
       "      <td>2048</td>\n",
       "      <td>0.168000</td>\n",
       "      <td>0.168000</td>\n",
       "      <td>NaN</td>\n",
       "      <td>None</td>\n",
       "    </tr>\n",
       "    <tr>\n",
       "      <th>39460</th>\n",
       "      <td>00010338_004.png</td>\n",
       "      <td>No Finding</td>\n",
       "      <td>4</td>\n",
       "      <td>10338</td>\n",
       "      <td>70</td>\n",
       "      <td>M</td>\n",
       "      <td>PA</td>\n",
       "      <td>2500</td>\n",
       "      <td>2048</td>\n",
       "      <td>0.168000</td>\n",
       "      <td>0.168000</td>\n",
       "      <td>NaN</td>\n",
       "      <td>None</td>\n",
       "    </tr>\n",
       "    <tr>\n",
       "      <th>76375</th>\n",
       "      <td>00018739_014.png</td>\n",
       "      <td>No Finding</td>\n",
       "      <td>14</td>\n",
       "      <td>18739</td>\n",
       "      <td>63</td>\n",
       "      <td>M</td>\n",
       "      <td>PA</td>\n",
       "      <td>2736</td>\n",
       "      <td>2843</td>\n",
       "      <td>0.143000</td>\n",
       "      <td>0.143000</td>\n",
       "      <td>NaN</td>\n",
       "      <td>None</td>\n",
       "    </tr>\n",
       "    <tr>\n",
       "      <th>56257</th>\n",
       "      <td>00014018_014.png</td>\n",
       "      <td>Effusion</td>\n",
       "      <td>14</td>\n",
       "      <td>14018</td>\n",
       "      <td>46</td>\n",
       "      <td>M</td>\n",
       "      <td>PA</td>\n",
       "      <td>2992</td>\n",
       "      <td>2991</td>\n",
       "      <td>0.143000</td>\n",
       "      <td>0.143000</td>\n",
       "      <td>NaN</td>\n",
       "      <td>None</td>\n",
       "    </tr>\n",
       "    <tr>\n",
       "      <th>110608</th>\n",
       "      <td>00030139_001.png</td>\n",
       "      <td>No Finding</td>\n",
       "      <td>1</td>\n",
       "      <td>30139</td>\n",
       "      <td>37</td>\n",
       "      <td>M</td>\n",
       "      <td>PA</td>\n",
       "      <td>2021</td>\n",
       "      <td>2021</td>\n",
       "      <td>0.194311</td>\n",
       "      <td>0.194311</td>\n",
       "      <td>NaN</td>\n",
       "      <td>None</td>\n",
       "    </tr>\n",
       "    <tr>\n",
       "      <th>4527</th>\n",
       "      <td>00001226_001.png</td>\n",
       "      <td>Effusion</td>\n",
       "      <td>1</td>\n",
       "      <td>1226</td>\n",
       "      <td>80</td>\n",
       "      <td>M</td>\n",
       "      <td>AP</td>\n",
       "      <td>2500</td>\n",
       "      <td>2048</td>\n",
       "      <td>0.171000</td>\n",
       "      <td>0.171000</td>\n",
       "      <td>NaN</td>\n",
       "      <td>None</td>\n",
       "    </tr>\n",
       "    <tr>\n",
       "      <th>27173</th>\n",
       "      <td>00007076_008.png</td>\n",
       "      <td>Infiltration|Nodule</td>\n",
       "      <td>8</td>\n",
       "      <td>7076</td>\n",
       "      <td>41</td>\n",
       "      <td>M</td>\n",
       "      <td>PA</td>\n",
       "      <td>2048</td>\n",
       "      <td>2500</td>\n",
       "      <td>0.168000</td>\n",
       "      <td>0.168000</td>\n",
       "      <td>NaN</td>\n",
       "      <td>None</td>\n",
       "    </tr>\n",
       "    <tr>\n",
       "      <th>45408</th>\n",
       "      <td>00011634_000.png</td>\n",
       "      <td>No Finding</td>\n",
       "      <td>0</td>\n",
       "      <td>11634</td>\n",
       "      <td>67</td>\n",
       "      <td>M</td>\n",
       "      <td>AP</td>\n",
       "      <td>2500</td>\n",
       "      <td>2048</td>\n",
       "      <td>0.168000</td>\n",
       "      <td>0.168000</td>\n",
       "      <td>NaN</td>\n",
       "      <td>None</td>\n",
       "    </tr>\n",
       "    <tr>\n",
       "      <th>30229</th>\n",
       "      <td>00007882_000.png</td>\n",
       "      <td>Effusion|Nodule</td>\n",
       "      <td>0</td>\n",
       "      <td>7882</td>\n",
       "      <td>58</td>\n",
       "      <td>M</td>\n",
       "      <td>PA</td>\n",
       "      <td>2500</td>\n",
       "      <td>2048</td>\n",
       "      <td>0.168000</td>\n",
       "      <td>0.168000</td>\n",
       "      <td>NaN</td>\n",
       "      <td>None</td>\n",
       "    </tr>\n",
       "    <tr>\n",
       "      <th>66584</th>\n",
       "      <td>00016472_004.png</td>\n",
       "      <td>No Finding</td>\n",
       "      <td>4</td>\n",
       "      <td>16472</td>\n",
       "      <td>57</td>\n",
       "      <td>M</td>\n",
       "      <td>AP</td>\n",
       "      <td>2500</td>\n",
       "      <td>2048</td>\n",
       "      <td>0.168000</td>\n",
       "      <td>0.168000</td>\n",
       "      <td>NaN</td>\n",
       "      <td>None</td>\n",
       "    </tr>\n",
       "    <tr>\n",
       "      <th>37460</th>\n",
       "      <td>00009875_006.png</td>\n",
       "      <td>Nodule</td>\n",
       "      <td>6</td>\n",
       "      <td>9875</td>\n",
       "      <td>18</td>\n",
       "      <td>F</td>\n",
       "      <td>PA</td>\n",
       "      <td>2678</td>\n",
       "      <td>2661</td>\n",
       "      <td>0.143000</td>\n",
       "      <td>0.143000</td>\n",
       "      <td>NaN</td>\n",
       "      <td>None</td>\n",
       "    </tr>\n",
       "    <tr>\n",
       "      <th>61712</th>\n",
       "      <td>00015247_010.png</td>\n",
       "      <td>No Finding</td>\n",
       "      <td>10</td>\n",
       "      <td>15247</td>\n",
       "      <td>55</td>\n",
       "      <td>M</td>\n",
       "      <td>AP</td>\n",
       "      <td>2500</td>\n",
       "      <td>2048</td>\n",
       "      <td>0.168000</td>\n",
       "      <td>0.168000</td>\n",
       "      <td>NaN</td>\n",
       "      <td>None</td>\n",
       "    </tr>\n",
       "    <tr>\n",
       "      <th>54340</th>\n",
       "      <td>00013644_000.png</td>\n",
       "      <td>No Finding</td>\n",
       "      <td>0</td>\n",
       "      <td>13644</td>\n",
       "      <td>19</td>\n",
       "      <td>F</td>\n",
       "      <td>AP</td>\n",
       "      <td>2500</td>\n",
       "      <td>2048</td>\n",
       "      <td>0.168000</td>\n",
       "      <td>0.168000</td>\n",
       "      <td>NaN</td>\n",
       "      <td>None</td>\n",
       "    </tr>\n",
       "    <tr>\n",
       "      <th>42853</th>\n",
       "      <td>00011034_002.png</td>\n",
       "      <td>Mass</td>\n",
       "      <td>2</td>\n",
       "      <td>11034</td>\n",
       "      <td>53</td>\n",
       "      <td>F</td>\n",
       "      <td>PA</td>\n",
       "      <td>2992</td>\n",
       "      <td>2991</td>\n",
       "      <td>0.143000</td>\n",
       "      <td>0.143000</td>\n",
       "      <td>NaN</td>\n",
       "      <td>None</td>\n",
       "    </tr>\n",
       "    <tr>\n",
       "      <th>104591</th>\n",
       "      <td>00027990_000.png</td>\n",
       "      <td>No Finding</td>\n",
       "      <td>0</td>\n",
       "      <td>27990</td>\n",
       "      <td>24</td>\n",
       "      <td>M</td>\n",
       "      <td>PA</td>\n",
       "      <td>2021</td>\n",
       "      <td>2021</td>\n",
       "      <td>0.194311</td>\n",
       "      <td>0.194311</td>\n",
       "      <td>NaN</td>\n",
       "      <td>None</td>\n",
       "    </tr>\n",
       "    <tr>\n",
       "      <th>1174</th>\n",
       "      <td>00000289_000.png</td>\n",
       "      <td>No Finding</td>\n",
       "      <td>0</td>\n",
       "      <td>289</td>\n",
       "      <td>75</td>\n",
       "      <td>F</td>\n",
       "      <td>PA</td>\n",
       "      <td>2470</td>\n",
       "      <td>2991</td>\n",
       "      <td>0.143000</td>\n",
       "      <td>0.143000</td>\n",
       "      <td>NaN</td>\n",
       "      <td>None</td>\n",
       "    </tr>\n",
       "    <tr>\n",
       "      <th>71962</th>\n",
       "      <td>00017726_010.png</td>\n",
       "      <td>No Finding</td>\n",
       "      <td>10</td>\n",
       "      <td>17726</td>\n",
       "      <td>47</td>\n",
       "      <td>M</td>\n",
       "      <td>AP</td>\n",
       "      <td>2500</td>\n",
       "      <td>2048</td>\n",
       "      <td>0.168000</td>\n",
       "      <td>0.168000</td>\n",
       "      <td>NaN</td>\n",
       "      <td>None</td>\n",
       "    </tr>\n",
       "    <tr>\n",
       "      <th>101277</th>\n",
       "      <td>00026904_002.png</td>\n",
       "      <td>No Finding</td>\n",
       "      <td>2</td>\n",
       "      <td>26904</td>\n",
       "      <td>79</td>\n",
       "      <td>M</td>\n",
       "      <td>AP</td>\n",
       "      <td>3056</td>\n",
       "      <td>2544</td>\n",
       "      <td>0.139000</td>\n",
       "      <td>0.139000</td>\n",
       "      <td>NaN</td>\n",
       "      <td>None</td>\n",
       "    </tr>\n",
       "    <tr>\n",
       "      <th>47543</th>\n",
       "      <td>00012072_009.png</td>\n",
       "      <td>Effusion</td>\n",
       "      <td>9</td>\n",
       "      <td>12072</td>\n",
       "      <td>20</td>\n",
       "      <td>M</td>\n",
       "      <td>PA</td>\n",
       "      <td>2500</td>\n",
       "      <td>2048</td>\n",
       "      <td>0.168000</td>\n",
       "      <td>0.168000</td>\n",
       "      <td>NaN</td>\n",
       "      <td>None</td>\n",
       "    </tr>\n",
       "    <tr>\n",
       "      <th>22179</th>\n",
       "      <td>00005883_000.png</td>\n",
       "      <td>No Finding</td>\n",
       "      <td>0</td>\n",
       "      <td>5883</td>\n",
       "      <td>63</td>\n",
       "      <td>F</td>\n",
       "      <td>PA</td>\n",
       "      <td>2048</td>\n",
       "      <td>2500</td>\n",
       "      <td>0.171000</td>\n",
       "      <td>0.171000</td>\n",
       "      <td>NaN</td>\n",
       "      <td>None</td>\n",
       "    </tr>\n",
       "    <tr>\n",
       "      <th>110698</th>\n",
       "      <td>00030162_013.png</td>\n",
       "      <td>No Finding</td>\n",
       "      <td>13</td>\n",
       "      <td>30162</td>\n",
       "      <td>15</td>\n",
       "      <td>M</td>\n",
       "      <td>AP</td>\n",
       "      <td>3056</td>\n",
       "      <td>2544</td>\n",
       "      <td>0.139000</td>\n",
       "      <td>0.139000</td>\n",
       "      <td>NaN</td>\n",
       "      <td>None</td>\n",
       "    </tr>\n",
       "  </tbody>\n",
       "</table>\n",
       "</div>"
      ],
      "text/plain": [
       "             Image Index         Finding Labels  Follow-up #  Patient ID  \\\n",
       "20886   00005573_001.png  Effusion|Infiltration            1        5573   \n",
       "100807  00026777_001.png             No Finding            1       26777   \n",
       "101616  00026995_000.png             No Finding            0       26995   \n",
       "12913   00003388_004.png             No Finding            4        3388   \n",
       "103107  00027474_002.png            Atelectasis            2       27474   \n",
       "107511  00029039_021.png  Effusion|Pneumothorax           21       29039   \n",
       "62128   00015376_009.png             No Finding            9       15376   \n",
       "18034   00004833_016.png             No Finding           16        4833   \n",
       "32490   00008490_003.png  Fibrosis|Infiltration            3        8490   \n",
       "3790    00001034_001.png             No Finding            1        1034   \n",
       "39460   00010338_004.png             No Finding            4       10338   \n",
       "76375   00018739_014.png             No Finding           14       18739   \n",
       "56257   00014018_014.png               Effusion           14       14018   \n",
       "110608  00030139_001.png             No Finding            1       30139   \n",
       "4527    00001226_001.png               Effusion            1        1226   \n",
       "27173   00007076_008.png    Infiltration|Nodule            8        7076   \n",
       "45408   00011634_000.png             No Finding            0       11634   \n",
       "30229   00007882_000.png        Effusion|Nodule            0        7882   \n",
       "66584   00016472_004.png             No Finding            4       16472   \n",
       "37460   00009875_006.png                 Nodule            6        9875   \n",
       "61712   00015247_010.png             No Finding           10       15247   \n",
       "54340   00013644_000.png             No Finding            0       13644   \n",
       "42853   00011034_002.png                   Mass            2       11034   \n",
       "104591  00027990_000.png             No Finding            0       27990   \n",
       "1174    00000289_000.png             No Finding            0         289   \n",
       "71962   00017726_010.png             No Finding           10       17726   \n",
       "101277  00026904_002.png             No Finding            2       26904   \n",
       "47543   00012072_009.png               Effusion            9       12072   \n",
       "22179   00005883_000.png             No Finding            0        5883   \n",
       "110698  00030162_013.png             No Finding           13       30162   \n",
       "\n",
       "        Patient Age Patient Gender View Position  OriginalImage[Width  \\\n",
       "20886             8              M            PA                 2048   \n",
       "100807           43              M            AP                 3056   \n",
       "101616           45              M            PA                 2992   \n",
       "12913            49              M            PA                 2500   \n",
       "103107           13              F            AP                 3056   \n",
       "107511           61              M            AP                 3056   \n",
       "62128            60              F            AP                 2500   \n",
       "18034            27              M            AP                 2500   \n",
       "32490            58              M            PA                 2992   \n",
       "3790             72              M            AP                 2500   \n",
       "39460            70              M            PA                 2500   \n",
       "76375            63              M            PA                 2736   \n",
       "56257            46              M            PA                 2992   \n",
       "110608           37              M            PA                 2021   \n",
       "4527             80              M            AP                 2500   \n",
       "27173            41              M            PA                 2048   \n",
       "45408            67              M            AP                 2500   \n",
       "30229            58              M            PA                 2500   \n",
       "66584            57              M            AP                 2500   \n",
       "37460            18              F            PA                 2678   \n",
       "61712            55              M            AP                 2500   \n",
       "54340            19              F            AP                 2500   \n",
       "42853            53              F            PA                 2992   \n",
       "104591           24              M            PA                 2021   \n",
       "1174             75              F            PA                 2470   \n",
       "71962            47              M            AP                 2500   \n",
       "101277           79              M            AP                 3056   \n",
       "47543            20              M            PA                 2500   \n",
       "22179            63              F            PA                 2048   \n",
       "110698           15              M            AP                 3056   \n",
       "\n",
       "        Height]  OriginalImagePixelSpacing[x        y]  Unnamed: 11  path  \n",
       "20886      2500                     0.171000  0.171000          NaN  None  \n",
       "100807     2544                     0.139000  0.139000          NaN  None  \n",
       "101616     2991                     0.143000  0.143000          NaN  None  \n",
       "12913      2048                     0.168000  0.168000          NaN  None  \n",
       "103107     2544                     0.139000  0.139000          NaN  None  \n",
       "107511     2544                     0.139000  0.139000          NaN  None  \n",
       "62128      2048                     0.168000  0.168000          NaN  None  \n",
       "18034      2048                     0.171000  0.171000          NaN  None  \n",
       "32490      2991                     0.143000  0.143000          NaN  None  \n",
       "3790       2048                     0.168000  0.168000          NaN  None  \n",
       "39460      2048                     0.168000  0.168000          NaN  None  \n",
       "76375      2843                     0.143000  0.143000          NaN  None  \n",
       "56257      2991                     0.143000  0.143000          NaN  None  \n",
       "110608     2021                     0.194311  0.194311          NaN  None  \n",
       "4527       2048                     0.171000  0.171000          NaN  None  \n",
       "27173      2500                     0.168000  0.168000          NaN  None  \n",
       "45408      2048                     0.168000  0.168000          NaN  None  \n",
       "30229      2048                     0.168000  0.168000          NaN  None  \n",
       "66584      2048                     0.168000  0.168000          NaN  None  \n",
       "37460      2661                     0.143000  0.143000          NaN  None  \n",
       "61712      2048                     0.168000  0.168000          NaN  None  \n",
       "54340      2048                     0.168000  0.168000          NaN  None  \n",
       "42853      2991                     0.143000  0.143000          NaN  None  \n",
       "104591     2021                     0.194311  0.194311          NaN  None  \n",
       "1174       2991                     0.143000  0.143000          NaN  None  \n",
       "71962      2048                     0.168000  0.168000          NaN  None  \n",
       "101277     2544                     0.139000  0.139000          NaN  None  \n",
       "47543      2048                     0.168000  0.168000          NaN  None  \n",
       "22179      2500                     0.171000  0.171000          NaN  None  \n",
       "110698     2544                     0.139000  0.139000          NaN  None  "
      ]
     },
     "execution_count": 45,
     "metadata": {},
     "output_type": "execute_result"
    }
   ],
   "source": [
    "## Below is some helper code to read all of your full image filepaths into a dataframe for easier manipulation\n",
    "## Load NIH data\n",
    "all_xray_df = pd.read_csv('data/Data_Entry_2017.csv')\n",
    "all_image_paths = {os.path.basename(x): x for x in \n",
    "                   glob(os.path.join('/data','images*', '*', '*.png'))}\n",
    "print('Scans found:', len(all_image_paths), ', Total Headers', all_xray_df.shape[0])\n",
    "all_xray_df['path'] = all_xray_df['Image Index'].map(all_image_paths.get)\n",
    "all_xray_df.sample(30)\n"
   ]
  },
  {
   "cell_type": "markdown",
   "metadata": {},
   "source": [
    "## EDA"
   ]
  },
  {
   "cell_type": "markdown",
   "metadata": {},
   "source": [
    "### 1. Diseases distribution"
   ]
  },
  {
   "cell_type": "markdown",
   "metadata": {},
   "source": [
    "Find the proportion of the images with pneumonia/without pneumonia."
   ]
  },
  {
   "cell_type": "code",
   "execution_count": 46,
   "metadata": {},
   "outputs": [],
   "source": [
    "all_xray_df = all_xray_df.rename(columns = {'Image Index' : 'image_index', 'Finding Labels': 'finding_labels',\n",
    "                             'Follow-up #':'follow_up', 'Patient ID': 'patient_id', 'Patient Age':'patient_age',\n",
    "                             'Patient Gender':'patient_gender', 'View Position':'view_position', \n",
    "                              'OriginalImage[Width':'orig_img_width', 'Height]':'orig_img_height',\n",
    "                             'OriginalImagePixelSpacing[x':'pixel_spacing', 'Unnamed: 11':'unnamed_11'})"
   ]
  },
  {
   "cell_type": "code",
   "execution_count": 49,
   "metadata": {},
   "outputs": [
    {
     "data": {
      "text/plain": [
       "1431"
      ]
     },
     "execution_count": 49,
     "metadata": {},
     "output_type": "execute_result"
    }
   ],
   "source": [
    "all_xray_df.loc[all_xray_df['finding_labels'].str.contains('Pneumonia')].shape[0]"
   ]
  },
  {
   "cell_type": "code",
   "execution_count": 50,
   "metadata": {},
   "outputs": [
    {
     "data": {
      "text/plain": [
       "0.012763110952550838"
      ]
     },
     "execution_count": 50,
     "metadata": {},
     "output_type": "execute_result"
    }
   ],
   "source": [
    "all_xray_df[all_xray_df['finding_labels'].str.contains('Pneumonia')].shape[0]/all_xray_df.shape[0]"
   ]
  },
  {
   "cell_type": "markdown",
   "metadata": {},
   "source": [
    "Only 1% of the total images have diagnosed pneumonia.\n",
    "That means that we'll need to discard most of the images while training"
   ]
  },
  {
   "cell_type": "markdown",
   "metadata": {},
   "source": [
    "Now, show the distribution of all 14 diseases "
   ]
  },
  {
   "cell_type": "code",
   "execution_count": 7,
   "metadata": {},
   "outputs": [
    {
     "data": {
      "image/png": "[encoded data removed]",
      "text/plain": [
       "<Figure size 1296x360 with 1 Axes>"
      ]
     },
     "metadata": {
      "needs_background": "light"
     },
     "output_type": "display_data"
    }
   ],
   "source": [
    "diseases = np.array(['Atelectasis', 'Cardiomegaly', 'Effusion', 'Infiltration', 'Mass', 'Nodule', 'Pneumonia', \n",
    "            'Pneumothorax', 'Consolidation', 'Edema', 'Emphysema', 'Fibrosis', 'Pleural_Thickening', 'Hernia'])\n",
    "diseases_counts = []\n",
    "\n",
    "for disease in diseases:\n",
    "    diseases_counts.append(all_xray_df[all_xray_df['finding_labels'].str.contains(disease)].shape[0])\n",
    "diseases_counts = np.array(diseases_counts)\n",
    "diseases = diseases[diseases_counts.argsort()]\n",
    "diseases_counts.sort()\n",
    "\n",
    "pal = ['blue' if x != 'Pneumonia' else 'orange' for x in diseases]\n",
    "\n",
    "plt.figure(figsize=(18,5))\n",
    "plt.title('Distribution of all disease categories (any type of disease presence)')\n",
    "sns.barplot(diseases, diseases_counts, palette=pal);"
   ]
  },
  {
   "cell_type": "markdown",
   "metadata": {},
   "source": [
    "Now, let's check the distribution for primary deseases"
   ]
  },
  {
   "cell_type": "code",
   "execution_count": 8,
   "metadata": {},
   "outputs": [],
   "source": [
    "new = all_xray_df[\"finding_labels\"].str.split('|', n=1, expand=True)\n",
    "all_xray_df['disease'] = new[0]\n",
    "all_xray_df['comorbidity'] = new[1]"
   ]
  },
  {
   "cell_type": "code",
   "execution_count": 9,
   "metadata": {},
   "outputs": [
    {
     "data": {
      "image/png": "[encoded data removed]",
      "text/plain": [
       "<Figure size 1296x360 with 1 Axes>"
      ]
     },
     "metadata": {
      "needs_background": "light"
     },
     "output_type": "display_data"
    }
   ],
   "source": [
    "diseases = np.array(['Atelectasis', 'Cardiomegaly', 'Effusion', 'Infiltration', 'Mass', 'Nodule', 'Pneumonia', \n",
    "            'Pneumothorax', 'Consolidation', 'Edema', 'Emphysema', 'Fibrosis', 'Pleural_Thickening', 'Hernia'])\n",
    "diseases_counts = []\n",
    "\n",
    "for disease in diseases:\n",
    "    diseases_counts.append(all_xray_df[all_xray_df['disease'].str.contains(disease)].shape[0])\n",
    "diseases_counts = np.array(diseases_counts)\n",
    "diseases = diseases[diseases_counts.argsort()]\n",
    "diseases_counts.sort()\n",
    "\n",
    "pal = ['blue' if x != 'Pneumonia' else 'orange' for x in diseases]\n",
    "\n",
    "plt.figure(figsize=(18,5))\n",
    "plt.title('Distribution of primary diseases')\n",
    "sns.barplot(diseases, diseases_counts, palette=pal);"
   ]
  },
  {
   "cell_type": "code",
   "execution_count": 10,
   "metadata": {},
   "outputs": [],
   "source": [
    "all_xray_df.comorbidity.fillna(value='No Finding', inplace=True)"
   ]
  },
  {
   "cell_type": "code",
   "execution_count": 11,
   "metadata": {},
   "outputs": [
    {
     "data": {
      "image/png": "[encoded data removed]",
      "text/plain": [
       "<Figure size 1296x360 with 1 Axes>"
      ]
     },
     "metadata": {
      "needs_background": "light"
     },
     "output_type": "display_data"
    }
   ],
   "source": [
    "diseases = np.array(['Atelectasis', 'Cardiomegaly', 'Effusion', 'Infiltration', 'Mass', 'Nodule', 'Pneumonia', \n",
    "            'Pneumothorax', 'Consolidation', 'Edema', 'Emphysema', 'Fibrosis', 'Pleural_Thickening', 'Hernia'])\n",
    "diseases_counts = []\n",
    "\n",
    "for disease in diseases:\n",
    "    diseases_counts.append(all_xray_df[all_xray_df['comorbidity'].str.contains(disease)].shape[0])\n",
    "diseases_counts = np.array(diseases_counts)\n",
    "diseases = diseases[diseases_counts.argsort()]\n",
    "diseases_counts.sort()\n",
    "\n",
    "pal = ['blue' if x != 'Pneumonia' else 'orange' for x in diseases]\n",
    "\n",
    "plt.figure(figsize=(18,5))\n",
    "plt.title('Distribution of comorbidities')\n",
    "sns.barplot(diseases, diseases_counts, palette=pal);"
   ]
  },
  {
   "cell_type": "markdown",
   "metadata": {},
   "source": [
    "As we can see from this plot, Pneumonia is mostly a comorbidity. So it will be important to check if there is a pneumonia as a comorbidity before discarding a sample while pre-processing the dataset for training."
   ]
  },
  {
   "cell_type": "markdown",
   "metadata": {},
   "source": [
    "### 2. Demographics"
   ]
  },
  {
   "cell_type": "markdown",
   "metadata": {},
   "source": [
    "#### Age distribution"
   ]
  },
  {
   "cell_type": "code",
   "execution_count": 14,
   "metadata": {},
   "outputs": [
    {
     "data": {
      "text/plain": [
       "414"
      ]
     },
     "execution_count": 14,
     "metadata": {},
     "output_type": "execute_result"
    }
   ],
   "source": [
    "all_xray_df.patient_age.max()"
   ]
  },
  {
   "cell_type": "code",
   "execution_count": 21,
   "metadata": {},
   "outputs": [],
   "source": [
    "all_xray_df.loc[all_xray_df['patient_age'] > 120, 'patient_age'] = all_xray_df[all_xray_df['patient_age'] > 120]['patient_age'].map(lambda x: x/10).max()"
   ]
  },
  {
   "cell_type": "code",
   "execution_count": 22,
   "metadata": {},
   "outputs": [
    {
     "data": {
      "text/plain": [
       "95.0"
      ]
     },
     "execution_count": 22,
     "metadata": {},
     "output_type": "execute_result"
    }
   ],
   "source": [
    "all_xray_df.patient_age.max()"
   ]
  },
  {
   "cell_type": "code",
   "execution_count": 41,
   "metadata": {},
   "outputs": [
    {
     "data": {
      "image/png": "[encoded data removed]",
      "text/plain": [
       "<Figure size 432x288 with 1 Axes>"
      ]
     },
     "metadata": {
      "needs_background": "light"
     },
     "output_type": "display_data"
    }
   ],
   "source": [
    "ax = all_xray_df.patient_age.hist()\n",
    "ax.set_title('Patient age distribution');"
   ]
  },
  {
   "cell_type": "markdown",
   "metadata": {},
   "source": [
    "Here we can see a normal distribution, it's already fine for further data processing "
   ]
  },
  {
   "cell_type": "markdown",
   "metadata": {},
   "source": [
    "#### Gender distribution"
   ]
  },
  {
   "cell_type": "code",
   "execution_count": 43,
   "metadata": {},
   "outputs": [
    {
     "data": {
      "image/png": "[encoded data removed]",
      "text/plain": [
       "<Figure size 432x288 with 1 Axes>"
      ]
     },
     "metadata": {
      "needs_background": "light"
     },
     "output_type": "display_data"
    }
   ],
   "source": [
    "ax = all_xray_df.patient_gender.value_counts().plot(kind='barh')\n",
    "ax.set_yticklabels(['Male', 'Female'])\n",
    "ax.set_title('Patient gender distribution');"
   ]
  },
  {
   "cell_type": "markdown",
   "metadata": {},
   "source": [
    "From this bar chart we can see that the difference in gender distribution is not crucial, but there are more x-rays taken from men. It will probably worth adding a bit of zooming in the data augmentation process."
   ]
  },
  {
   "cell_type": "markdown",
   "metadata": {},
   "source": []
  }
 ],
 "metadata": {
  "kernelspec": {
   "display_name": "Python 3",
   "language": "python",
   "name": "python3"
  },
  "language_info": {
   "codemirror_mode": {
    "name": "ipython",
    "version": 3
   },
   "file_extension": ".py",
   "mimetype": "text/x-python",
   "name": "python",
   "nbconvert_exporter": "python",
   "pygments_lexer": "ipython3",
   "version": "3.7.7"
  }
 },
 "nbformat": 4,
 "nbformat_minor": 2
}
